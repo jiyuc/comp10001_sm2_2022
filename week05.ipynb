{
 "cells": [
  {
   "cell_type": "markdown",
   "id": "efficient-amplifier",
   "metadata": {},
   "source": [
    "## <p style=\"text-align: center;\">COMP10001 Foundations of Computing<br>Semester 2, 2022<br>Tutorial Questions: Week 5</p>\n",
    "### <p style=\"text-align: center;\">Tutor: Jiyu Chen  ~ *Freddie*</p>"
   ]
  },
  {
   "cell_type": "markdown",
   "id": "0a633883",
   "metadata": {},
   "source": [
    "## Announcements\n",
    "\n",
    "### - Project 1: Due 15th Sep 23:59 (15%)\n",
    "\n",
    "\n",
    "### - 1-hour Mid Semester Test: 7th Sep (10%)"
   ]
  },
  {
   "cell_type": "markdown",
   "id": "facafe13",
   "metadata": {},
   "source": [
    "### Q0a. Coding Habit: learning to use `not` statement to clarify logic flows\n",
    "\n",
    "Recap our grok assignment: print a list of lines given two inputs which are strictly positive integers\n",
    "\n",
    "```\n",
    "Enter the number for 'num': 4\n",
    "Enter the number for 'N': 10\n",
    "\n",
    "1 ** 4 = 1\n",
    "2 ** 4 = 16\n",
    "3 ** 4 = 81\n",
    "4 ** 4 = 256\n",
    "5 ** 4 = 625\n",
    "6 ** 4 = 1296\n",
    "7 ** 4 = 2401\n",
    "8 ** 4 = 4096\n",
    "9 ** 4 = 6561\n",
    "10 ** 4 = 10000\n",
    "```"
   ]
  },
  {
   "cell_type": "code",
   "execution_count": 3,
   "id": "10d25091",
   "metadata": {},
   "outputs": [
    {
     "name": "stdout",
     "output_type": "stream",
     "text": [
      "Enter the number for 'num': 4\n",
      "Enter the number for 'N': 10\n",
      "1 ** 4 = 1\n",
      "2 ** 4 = 16\n",
      "3 ** 4 = 81\n",
      "4 ** 4 = 256\n",
      "5 ** 4 = 625\n",
      "6 ** 4 = 1296\n",
      "7 ** 4 = 2401\n",
      "8 ** 4 = 4096\n",
      "9 ** 4 = 6561\n",
      "10 ** 4 = 10000\n"
     ]
    }
   ],
   "source": [
    "a_num = input(\"Enter the number for 'num': \")\n",
    "N = input(\"Enter the number for 'N': \")\n",
    "if a_num.isdigit() and N.isdigit():\n",
    "    num = int(a_num)\n",
    "    N = int(N)\n",
    "    if N > 0 and num > 0:\n",
    "        i = 1\n",
    "        while i <= N and N > 0:\n",
    "            print(i, '**', num, '=', i ** num)\n",
    "            i += 1\n",
    "    else:\n",
    "        print('Invalid input')\n",
    "else:\n",
    "    print('Invalid input')"
   ]
  },
  {
   "cell_type": "code",
   "execution_count": 2,
   "id": "f0d22342",
   "metadata": {},
   "outputs": [
    {
     "name": "stdout",
     "output_type": "stream",
     "text": [
      "Enter the number for 'num': 4\n",
      "Enter the number for 'N': 10\n",
      "1 ** 4 = 1\n",
      "2 ** 4 = 16\n",
      "3 ** 4 = 81\n",
      "4 ** 4 = 256\n",
      "5 ** 4 = 625\n",
      "6 ** 4 = 1296\n",
      "7 ** 4 = 2401\n",
      "8 ** 4 = 4096\n",
      "9 ** 4 = 6561\n",
      "10 ** 4 = 10000\n"
     ]
    }
   ],
   "source": [
    "a_num = input(\"Enter the number for 'num': \")\n",
    "N = input(\"Enter the number for 'N': \")\n",
    "\n",
    "# 1. validation of digit\n",
    "if not a_num.isdigit() or not N.isdigit():  # notice the use of not and changing of and to or\n",
    "    print('Invalid input')\n",
    "\n",
    "# 2. validation of positive\n",
    "num = int(a_num)\n",
    "N = int(N)\n",
    "if N <= 0 or num <= 0:\n",
    "    print('Invalid input')\n",
    "\n",
    "# 3. iteratively print\n",
    "i = 1\n",
    "while i <= N and N > 0:\n",
    "    print(i, '**', num, '=', i ** num)\n",
    "    i += 1\n"
   ]
  },
  {
   "cell_type": "markdown",
   "id": "2c405bff",
   "metadata": {},
   "source": [
    "### Q0b. Good coding habits: always pair you open brackets with an closing brackets\n",
    "\n",
    "`tuple(sorted([hyp * sin(radians(angle)), hyp * cos(radians(angle))]))` "
   ]
  },
  {
   "cell_type": "markdown",
   "id": "greek-couple",
   "metadata": {},
   "source": [
    "### Q1. What is a “method”? How do methods differ from functions? How are they the same?\n",
    "\n",
    "A taste of **object-oriented design (OOD)**\n",
    "\n",
    "Both methods and functions run some **pre-defined code** to achieve a task. Both are called with brackets which can contain arguments. **Functions are called anywhere, but methods are “attached” to an object**, and are called with a dot after the object name. This means methods can do more interesting things like edit the object they are called on. We won’t learn how to write our own methods in this subject, though we will write functions."
   ]
  },
  {
   "cell_type": "code",
   "execution_count": 5,
   "id": "0bd4b44d",
   "metadata": {},
   "outputs": [
    {
     "ename": "AttributeError",
     "evalue": "'tuple' object has no attribute 'append'",
     "output_type": "error",
     "traceback": [
      "\u001b[0;31m---------------------------------------------------------------------------\u001b[0m",
      "\u001b[0;31mAttributeError\u001b[0m                            Traceback (most recent call last)",
      "\u001b[0;32m<ipython-input-5-510700ff1f87>\u001b[0m in \u001b[0;36m<module>\u001b[0;34m\u001b[0m\n\u001b[1;32m      1\u001b[0m \u001b[0ma\u001b[0m \u001b[0;34m=\u001b[0m \u001b[0;34m(\u001b[0m\u001b[0;36m12\u001b[0m\u001b[0;34m,\u001b[0m\u001b[0;36m3\u001b[0m\u001b[0;34m)\u001b[0m\u001b[0;34m\u001b[0m\u001b[0;34m\u001b[0m\u001b[0m\n\u001b[0;32m----> 2\u001b[0;31m \u001b[0ma\u001b[0m\u001b[0;34m.\u001b[0m\u001b[0mappend\u001b[0m\u001b[0;34m(\u001b[0m\u001b[0;36m4\u001b[0m\u001b[0;34m)\u001b[0m\u001b[0;34m\u001b[0m\u001b[0;34m\u001b[0m\u001b[0m\n\u001b[0m\u001b[1;32m      3\u001b[0m \u001b[0mprint\u001b[0m\u001b[0;34m(\u001b[0m\u001b[0ma\u001b[0m\u001b[0;34m)\u001b[0m\u001b[0;34m\u001b[0m\u001b[0;34m\u001b[0m\u001b[0m\n",
      "\u001b[0;31mAttributeError\u001b[0m: 'tuple' object has no attribute 'append'"
     ]
    }
   ],
   "source": [
    "a = (12,3)\n",
    "a.append(4)\n",
    "print(a)"
   ]
  },
  {
   "cell_type": "code",
   "execution_count": 9,
   "id": "fceb6066",
   "metadata": {},
   "outputs": [],
   "source": [
    "# method is defined within class\n",
    "\n",
    "class MyInt:\n",
    "    def __init__(self, a):\n",
    "        self.a = a\n",
    "        \n",
    "    def value(self):\n",
    "        return self.a\n",
    "        \n",
    "    def divide_by(self, denom):\n",
    "        if not denom:\n",
    "            return 0\n",
    "        self.a = self.a/denom"
   ]
  },
  {
   "cell_type": "code",
   "execution_count": 10,
   "id": "83c4bfdd",
   "metadata": {},
   "outputs": [],
   "source": [
    "a = 4\n",
    "\n",
    "class Str"
   ]
  },
  {
   "cell_type": "code",
   "execution_count": 11,
   "id": "06d628c7",
   "metadata": {},
   "outputs": [
    {
     "name": "stdout",
     "output_type": "stream",
     "text": [
      "2.0\n"
     ]
    }
   ],
   "source": [
    "a = MyInt(4)\n",
    "a.divide_by(2)   # calling method to edit an object\n",
    "print(a.value())"
   ]
  },
  {
   "cell_type": "code",
   "execution_count": 12,
   "id": "0c9b153b",
   "metadata": {},
   "outputs": [
    {
     "name": "stdout",
     "output_type": "stream",
     "text": [
      "4\n"
     ]
    }
   ],
   "source": [
    "# function is defined outside of class\n",
    "def divide_by(a, denom):\n",
    "    if not denom:\n",
    "        return 0\n",
    "        \n",
    "    return a/denom\n",
    "\n",
    "b = 4\n",
    "divide_by(b, 2)  # calling function\n",
    "print(b)"
   ]
  },
  {
   "cell_type": "markdown",
   "id": "7bb4d91f",
   "metadata": {},
   "source": [
    "### Another example, \n",
    "\n",
    "`len()` is a function, which can be applied to calculate the length of either `list` or `str`\n",
    "\n",
    "`lower()` is a method, pre-defined in `str class`. It is only applicable to edit data in `str` type"
   ]
  },
  {
   "cell_type": "code",
   "execution_count": 3,
   "id": "declared-parent",
   "metadata": {},
   "outputs": [
    {
     "name": "stdout",
     "output_type": "stream",
     "text": [
      "7 2\n",
      "aus,usa\n"
     ]
    },
    {
     "ename": "AttributeError",
     "evalue": "'list' object has no attribute 'lower'",
     "output_type": "error",
     "traceback": [
      "\u001b[0;31m---------------------------------------------------------------------------\u001b[0m",
      "\u001b[0;31mAttributeError\u001b[0m                            Traceback (most recent call last)",
      "\u001b[0;32m<ipython-input-3-3ef792846e07>\u001b[0m in \u001b[0;36m<module>\u001b[0;34m\u001b[0m\n\u001b[1;32m      6\u001b[0m \u001b[0mprint\u001b[0m\u001b[0;34m(\u001b[0m\u001b[0ms\u001b[0m\u001b[0;34m.\u001b[0m\u001b[0mlower\u001b[0m\u001b[0;34m(\u001b[0m\u001b[0;34m)\u001b[0m\u001b[0;34m)\u001b[0m \u001b[0;31m# call lower() method that is attached to string typed object to modify a string\u001b[0m\u001b[0;34m\u001b[0m\u001b[0;34m\u001b[0m\u001b[0m\n\u001b[1;32m      7\u001b[0m \u001b[0;34m\u001b[0m\u001b[0m\n\u001b[0;32m----> 8\u001b[0;31m \u001b[0ml\u001b[0m\u001b[0;34m.\u001b[0m\u001b[0mlower\u001b[0m\u001b[0;34m(\u001b[0m\u001b[0;34m)\u001b[0m \u001b[0;31m# Error raises as lower() method is not attached to list object\u001b[0m\u001b[0;34m\u001b[0m\u001b[0;34m\u001b[0m\u001b[0m\n\u001b[0m",
      "\u001b[0;31mAttributeError\u001b[0m: 'list' object has no attribute 'lower'"
     ]
    }
   ],
   "source": [
    "s = \"AUS,USA\" # string type object\n",
    "l = ['USA','AUS'] # list type object\n",
    "\n",
    "print(len(s),len(l)) # call len() function to different typed object\n",
    "\n",
    "print(s.lower()) # call lower() method that is attached to string typed object to modify a string\n",
    "\n",
    "l.lower() # Error raises as lower() method is not attached to list object"
   ]
  },
  {
   "cell_type": "markdown",
   "id": "exceptional-kingdom",
   "metadata": {},
   "source": [
    "## Exercise 1"
   ]
  },
  {
   "cell_type": "code",
   "execution_count": null,
   "id": "4686fbda",
   "metadata": {},
   "outputs": [],
   "source": [
    "s = \"Computing is FUN!\"\n"
   ]
  },
  {
   "cell_type": "markdown",
   "id": "julian-crisis",
   "metadata": {},
   "source": [
    "### Q2. What is the difference between a “list” and a “tuple”?\n",
    "\n",
    "- Lists are **“mutable”**, so allow for values to be added and removed at will. \n",
    "\n",
    "- Tuples are **“immutable”** meaning that trying to change a value in a tuple will cause an error. \n",
    "\n",
    "\n",
    "You can, of course, use the values in a tuple to create a **new** one (like creating new strings with the `+=` operation). Both lists and tuples are data types which can store multiple objects in an **ordered** sequence. Lists are initialised by surrounding objects with square brackets `[]` or by using the `list()` function. This is achieved by surrounding objects in brackets separated by commas, or calling the `tuple()` function. There is no limit to the amount of objects which can be stored in these sequences other than memory limits of your computer. It is common to see tuples used to group related objects together,such as in a set of coordinates (x, y) or to return multiple objects from a function.\n"
   ]
  },
  {
   "cell_type": "code",
   "execution_count": null,
   "id": "9f98bd5e",
   "metadata": {},
   "outputs": [],
   "source": [
    "(1,2)"
   ]
  },
  {
   "cell_type": "code",
   "execution_count": 17,
   "id": "dimensional-outside",
   "metadata": {},
   "outputs": [
    {
     "name": "stdout",
     "output_type": "stream",
     "text": [
      "After adding letter d: ['a', 'b', 'c', 'd']\n",
      "After removing letter c: ['a', 'b', 'd']\n"
     ]
    }
   ],
   "source": [
    "# list is mutable: directly making change to it\n",
    "\n",
    "a = ['a','b','c']\n",
    "a.append('d')  # add items to a list\n",
    "print(\"After adding letter d:\",a)\n",
    "a.remove('c')  # remove items to a list\n",
    "print(\"After removing letter c:\",a)"
   ]
  },
  {
   "cell_type": "code",
   "execution_count": 6,
   "id": "natural-commander",
   "metadata": {},
   "outputs": [
    {
     "name": "stdout",
     "output_type": "stream",
     "text": [
      "'tuple' object has no attribute 'append'\n",
      "after adding letter s: ('a', 'b', 'c', 's')\n"
     ]
    }
   ],
   "source": [
    "# tuple is immutable: a new tuple needs to be created for taking the changes to the old one\n",
    "a = ('a','b','c')\n",
    "try:\n",
    "    a.append('a')  # add items to a tuple\n",
    "except AttributeError as e:\n",
    "    print(e) # tuple is immutable, thus errors are raised here\n",
    "\n",
    "\n",
    "# How to change a tuple? By creating a new one.\n",
    "template = list()\n",
    "for item in a:\n",
    "    template.append(item)\n",
    "template.append('s')\n",
    "    \n",
    "new_a = tuple(template)\n",
    "print(\"after adding letter s:\",new_a)"
   ]
  },
  {
   "cell_type": "markdown",
   "id": "functioning-shanghai",
   "metadata": {},
   "source": [
    "### Q3. How do we add and remove items from a list?\n",
    "\n",
    "Items are added to a list using the `.append()` method, which takes the item to be added as its argument and returns nothing. The best way to remove an item is the `.pop()` method which takes the index to be removed (defaulting to the last index of the list) and returns the value which was removed. We can also use `.remove()` method which takes the specified item as argument to be removed"
   ]
  },
  {
   "cell_type": "code",
   "execution_count": 3,
   "id": "important-adult",
   "metadata": {},
   "outputs": [
    {
     "name": "stdout",
     "output_type": "stream",
     "text": [
      "After adding letter e: ['a', 'b', 'c', 'd', 'e']\n",
      "After removing letter b: ['a', 'c', 'd', 'e']\n",
      "After removing 2nd indexed item: ['a', 'c', 'e']\n",
      "After default pop: ['a', 'c']\n"
     ]
    }
   ],
   "source": [
    "a = ['a','b','c','d']\n",
    "a.append('e')  # add items to a list\n",
    "print(\"After adding letter e:\",a)\n",
    "\n",
    "\n",
    "# remove the specified item in the list\n",
    "a.remove('b')\n",
    "print(\"After removing letter b:\",a)\n",
    "\n",
    "\n",
    "# remove the 3rd indexed item in the list\n",
    "a.pop(2)\n",
    "print(\"After removing 3rd indexed item:\",a)\n",
    "\n",
    "\n",
    "# default. Remove the last indexed item in the list\n",
    "a.pop()\n",
    "print(\"After default pop:\",a)"
   ]
  },
  {
   "cell_type": "markdown",
   "id": "dress-somerset",
   "metadata": {},
   "source": [
    "## Excercise 2"
   ]
  },
  {
   "cell_type": "code",
   "execution_count": 2,
   "id": "cf857863",
   "metadata": {},
   "outputs": [
    {
     "name": "stdout",
     "output_type": "stream",
     "text": [
      "[2, ('green', 'eggs', 'ham'), False, 5]\n",
      "[2, ('green', 'eggs', 'ham'), 5]\n"
     ]
    }
   ],
   "source": [
    "lst = [2, (\"green\", \"eggs\", \"ham\"), False]\n"
   ]
  },
  {
   "cell_type": "markdown",
   "id": "classified-observation",
   "metadata": {},
   "source": [
    "### Q4. What is “iteration” in programming? Why do we need it?\n",
    "\n",
    "Iteration is the process of executing a section of code **repeatedly, often with a small difference each time**. We often need to do the same thing multiple times in programming: iteration allows us to do this without writing the same instructions many times over. Without iteration, code would be tedious to write, hard to read and error-prone."
   ]
  },
  {
   "cell_type": "code",
   "execution_count": 20,
   "id": "subjective-field",
   "metadata": {},
   "outputs": [
    {
     "name": "stdout",
     "output_type": "stream",
     "text": [
      "We need some saws\n",
      "We need some hammers\n",
      "We need some cogs\n",
      "We need some nails\n"
     ]
    }
   ],
   "source": [
    "print(\"We need some saws\")\n",
    "print(\"We need some hammers\")\n",
    "print(\"We need some cogs\")\n",
    "print(\"We need some nails\")"
   ]
  },
  {
   "cell_type": "code",
   "execution_count": 6,
   "id": "anonymous-disposition",
   "metadata": {},
   "outputs": [
    {
     "name": "stdout",
     "output_type": "stream",
     "text": [
      "We need some saws\n",
      "We need some hammers\n",
      "We need some cogs\n",
      "We need some nails\n"
     ]
    }
   ],
   "source": [
    "def get_str(part):\n",
    "    return f\"We need some {part}\"\n",
    "\n",
    "print(get_str(\"saws\"))\n",
    "print(get_str(\"hammers\"))\n",
    "print(get_str(\"cogs\"))\n",
    "print(get_str(\"nails\"))"
   ]
  },
  {
   "cell_type": "code",
   "execution_count": 5,
   "id": "respective-greensboro",
   "metadata": {},
   "outputs": [
    {
     "name": "stdout",
     "output_type": "stream",
     "text": [
      "We need some saws\n",
      "We need some hammers\n",
      "We need some cogs\n",
      "We need some nails\n"
     ]
    }
   ],
   "source": [
    "def get_str(part):\n",
    "    return f\"We need some {part}\"\n",
    "\n",
    "parts = (\"saws\", \"hammers\", \"cogs\", \"nails\")\n",
    "for part in parts:\n",
    "    print(get_str(part))\n",
    "    "
   ]
  },
  {
   "cell_type": "markdown",
   "id": "authentic-choice",
   "metadata": {},
   "source": [
    "### Q5. What are the two main types of loop in python? How do we write them?\n",
    "\n",
    "The two types are for loops `for <loop variable> in <sequence>:` and while loops `while <condition>:`. Both require the **loop body to be indented**. while loops similar to `if statements`: a condition is tested to decide whether loop repeats every time. A for loop automates some aspects of the while loop, including “loop variable” initialisation and update."
   ]
  },
  {
   "cell_type": "markdown",
   "id": "mysterious-knowing",
   "metadata": {},
   "source": [
    "### Q6. What do we mean by the “loop variable” in a `for` loop?\n",
    "\n",
    "The loop variable is **the variable which changes each time the code in a for loop is repeated**, taking the value of successive items in the sequence being looped through. This is what allows the for loop to execute slightly different code each time it’s repeated."
   ]
  },
  {
   "cell_type": "code",
   "execution_count": 3,
   "id": "limited-salem",
   "metadata": {},
   "outputs": [
    {
     "name": "stdout",
     "output_type": "stream",
     "text": [
      "0\n",
      "2\n",
      "4\n",
      "6\n",
      "8\n"
     ]
    }
   ],
   "source": [
    "for i in range(0,10,2):\n",
    "    print(i)   # noticing the change of i\n",
    "    "
   ]
  },
  {
   "cell_type": "markdown",
   "id": "amber-actress",
   "metadata": {},
   "source": [
    "### Q7. What are the differences between the two main types of loops? In which situations are they used?\n",
    "\n",
    "Both loops allow us to run some code multiple times. A for loop iterates over a sequence, \n",
    "\n",
    "### `for <loop variable> in <sequence>:`\n",
    "\n",
    "1) loop variable is within `for` statement\n",
    "\n",
    "2) loop ends when it reaches the end of the `range()`\n",
    "\n",
    "3) the change of loop variable is automatically achieved\n",
    "\n",
    "```\n",
    "countries = [\"USA\",\"CHN\",\"JPY\",\"ENG\",\"AUS\"]#,\"NYZ\"]\n",
    "for i in range(len(countries)):\n",
    "    print(countries[i])\n",
    "```\n",
    "\n",
    "\n",
    "### `while <condition>:`\n",
    "\n",
    "1) loop variable has to be initialised before the loop\n",
    "\n",
    "2) loop ends when the condition on the `while statement` becomes `False`\n",
    "\n",
    "3) the change of loop variable at each iteration needs to be specified\n",
    "\n",
    "```\n",
    "i = 0 # initialise a loop variable\n",
    "while countries[i] != 'AUS':  # loop ends when the condition became False\n",
    "    print(countries[i])\n",
    "    i += 1 # the change of loop variable at each iteration needs to be specified \n",
    "\n",
    "```"
   ]
  },
  {
   "cell_type": "code",
   "execution_count": 4,
   "id": "changing-division",
   "metadata": {},
   "outputs": [
    {
     "name": "stdout",
     "output_type": "stream",
     "text": [
      "USA\n",
      "CHN\n",
      "JPY\n",
      "ENG\n",
      "AUS\n"
     ]
    }
   ],
   "source": [
    "countries = [\"USA\",\"CHN\",\"JPY\",\"ENG\",\"AUS\"]#,\"NYZ\"]\n",
    "\n",
    "for i in range(len(countries)):  # loop variable is within for statement; loop ends when reach the end of range\n",
    "    # the change of loop variable is automatically achieved\n",
    "    print(countries[i])"
   ]
  },
  {
   "cell_type": "code",
   "execution_count": 5,
   "id": "96da99d9",
   "metadata": {},
   "outputs": [
    {
     "name": "stdout",
     "output_type": "stream",
     "text": [
      "USA\n",
      "CHN\n",
      "JPY\n",
      "ENG\n"
     ]
    }
   ],
   "source": [
    "i = 0 # initialise a loop variable\n",
    "while countries[i] != 'AUS':  # loop ends when the condition became False\n",
    "    print(countries[i])\n",
    "    i += 1 # the change of loop variable at each iteration needs to be specified "
   ]
  },
  {
   "cell_type": "markdown",
   "id": "alpha-palmer",
   "metadata": {},
   "source": [
    "### <span style=\"color:red\"> Q8. Is it always possible to convert a while loop into a for loop and vice versa? How do we do it? (Examinable)</span>\n",
    "\n",
    "Yes.\n",
    "It is always possible to convert a for loop into a while loop, with the creation of an index to access each value in whatever sequence the for loop is iterating over. Most while loops can be converted into for loops, by modelling values of a loop variable that the while loop may iterate through. In some cases it is not possible, such as where a while loop repeats indefinitely until an action is made by the user.\n",
    "\n",
    "To convert between loops, one method is to identify three things: \n",
    "0. Identify loop variable\n",
    "1. What is the initialisation of loop variable; **initialisation** \n",
    "2. How does the loop variable change during each iteration; **incrementation**\n",
    "3. When does the loop terminates. **termination**\n",
    "\n",
    "You can then put this into a while loop (initialisation, increment and condition for termination) or a for loop (creating a sequence that starts at the initialisation, increments by the required amount for each item and ends at the desired point of termination). The rest of the loop body will remain exactly the same in most cases"
   ]
  },
  {
   "cell_type": "code",
   "execution_count": 21,
   "id": "talented-clothing",
   "metadata": {},
   "outputs": [
    {
     "name": "stdout",
     "output_type": "stream",
     "text": [
      "1\n",
      "3\n",
      "5\n",
      "7\n",
      "9\n"
     ]
    }
   ],
   "source": [
    "# convert for loop below to a while loop\n",
    "for i in range(1,10,2):\n",
    "    print(i)\n",
    "\n",
    "# 0. loop variable: i\n",
    "# 1. initialisation: i = 1\n",
    "# 2. incrementation: i += 2\n",
    "# 3. termination: (non-inclusive!!) <10"
   ]
  },
  {
   "cell_type": "code",
   "execution_count": 7,
   "id": "statistical-friendly",
   "metadata": {},
   "outputs": [
    {
     "name": "stdout",
     "output_type": "stream",
     "text": [
      "1\n",
      "3\n",
      "5\n",
      "7\n",
      "9\n"
     ]
    }
   ],
   "source": [
    "i = 1 # initialisation\n",
    "while i < 10:  # termination\n",
    "    print(i)\n",
    "    i = i+2  # incrementation"
   ]
  },
  {
   "cell_type": "markdown",
   "id": "ready-disposition",
   "metadata": {},
   "source": [
    "## Exercise 3. What is the output of the following snippets of code containing loops?"
   ]
  },
  {
   "cell_type": "code",
   "execution_count": null,
   "id": "literary-blank",
   "metadata": {},
   "outputs": [],
   "source": [
    "#(1)\n",
    "i=2\n",
    "while i < 8:\n",
    "    print(f\"The square of {i} is {i * i}\")\n",
    "    i=i+2\n"
   ]
  },
  {
   "cell_type": "code",
   "execution_count": null,
   "id": "collective-eugene",
   "metadata": {},
   "outputs": [],
   "source": [
    "#(2)\n",
    "for ingredient in [\"corn\", \"pear\", \"chilli\", \"fish\"]: \n",
    "    if ingredient.startswith('c'):\n",
    "        print(ingredient, \"is delicious!\")\n",
    "    else:\n",
    "        print(ingredient, \"is not!\")"
   ]
  },
  {
   "cell_type": "markdown",
   "id": "cooked-summer",
   "metadata": {},
   "source": [
    "## Exercise 4. Rewrite the loops in question 3a and 3b converting `for` loops to `while` loops and vice versa."
   ]
  },
  {
   "cell_type": "code",
   "execution_count": null,
   "id": "a08a9f87",
   "metadata": {},
   "outputs": [],
   "source": [
    "# 0. loop variable:\n",
    "# 1. initialisation:\n",
    "# 2. incrementation:\n",
    "# 3. termination: (non-inclusive!!)"
   ]
  },
  {
   "cell_type": "code",
   "execution_count": null,
   "id": "verified-obligation",
   "metadata": {},
   "outputs": [],
   "source": [
    "#(1)\n",
    "i=2 # initialisation\n",
    "while i < 8:  # termination \n",
    "    print(f\"The square of {i} is {i * i}\")\n",
    "    i=i+2  # incrementation"
   ]
  },
  {
   "cell_type": "code",
   "execution_count": null,
   "id": "c828cd45",
   "metadata": {},
   "outputs": [],
   "source": [
    "# TODO\n",
    "for i in range(2, 8, 2):\n",
    "    print(f\"The square of {i} is {i * i}\")"
   ]
  },
  {
   "cell_type": "code",
   "execution_count": null,
   "id": "natural-subject",
   "metadata": {},
   "outputs": [],
   "source": [
    "#(2)\n",
    "for ingredient in [\"corn\", \"pear\", \"chilli\", \"fish\"]:  # variant of range()\n",
    "    if ingredient.startswith('c'):\n",
    "        print(ingredient, \"is delicious!\")\n",
    "    else:\n",
    "        print(ingredient, \"is not!\")"
   ]
  },
  {
   "cell_type": "code",
   "execution_count": null,
   "id": "important-capability",
   "metadata": {},
   "outputs": [],
   "source": [
    "#TODO\n",
    "ingredients = [\"corn\", \"pear\", \"chilli\", \"fish\"]\n",
    "i = 0\n",
    "while i < len(ingredients):\n",
    "    \n",
    "    if ingredients[i].startswith('c'):\n",
    "        print(ingredients[i], \"is delicious!\")\n",
    "    else:\n",
    "        print(ingredients[i], \"is not!\")\n",
    "    i += 1\n",
    "\n",
    "    #"
   ]
  },
  {
   "cell_type": "markdown",
   "id": "entire-delay",
   "metadata": {},
   "source": [
    "### Problems and Q&A session\n",
    "\n",
    "#### 1. Write a function which takes a positive integer input n and prints the thirteen times tables from `1 * 13` until `n * 13`.\n",
    "\n",
    "#### 2. Write a function which converts a temperature between degrees Celsius and Fahrenheit. It should take a float, the temperature to convert, and a string, either `'c'` or `'f'` indicating a conversion from degrees Celsius and Fahrenheit respectively. The formulae for conversion are below.\n",
    "\n",
    "$$ C = \\frac{F-32}{1.8}; F = C * 1.8 + 32$$\n",
    "\n",
    "\n",
    "#### 3. Write a function which takes a tuple of strings and returns a list containing only the strings which contain at least one exclamation mark or asterisk symbol."
   ]
  },
  {
   "cell_type": "code",
   "execution_count": null,
   "id": "manufactured-senior",
   "metadata": {},
   "outputs": [],
   "source": []
  }
 ],
 "metadata": {
  "kernelspec": {
   "display_name": "Python 3",
   "language": "python",
   "name": "python3"
  },
  "language_info": {
   "codemirror_mode": {
    "name": "ipython",
    "version": 3
   },
   "file_extension": ".py",
   "mimetype": "text/x-python",
   "name": "python",
   "nbconvert_exporter": "python",
   "pygments_lexer": "ipython3",
   "version": "3.7.7"
  }
 },
 "nbformat": 4,
 "nbformat_minor": 5
}
