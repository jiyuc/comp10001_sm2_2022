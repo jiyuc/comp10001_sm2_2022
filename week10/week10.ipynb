{
 "cells": [
  {
   "cell_type": "markdown",
   "id": "6b4924d8",
   "metadata": {},
   "source": [
    "## <p style=\"text-align: center\">COMP10001 Foundations of Computing<br>Semester 2, 2022<br>Tutorial Questions: Week 10 </p>\n",
    "### <p style=\"text-align: center\">Tutor: [Jiyu Chen](https://jiyuc.live) </p>"
   ]
  },
  {
   "cell_type": "markdown",
   "id": "402a2b51",
   "metadata": {},
   "source": [
    "### 1. What is an “iterator”? What are some helpful methods in the `itertools` library?\n",
    "\n",
    "An iterator is an object that keeps track of the traversal of a container. It is used by loops to keep track of iteration through a `list`, `set`, `dictionary`, `tuple` or `string` (these are objects we say are “iterable”). \n",
    "\n",
    "Iterators allow use of the `next(<iterator>)` function to progress to the next item in the iterator, and will raise a `StopIteration` exception if the end is reached. Note that iterators, unlike any container types, can be infinite in length.\n",
    "\n",
    "`itertools` provides many methods to construct iterators. They include **cycle** which produces an iterator to cycle through a container, looping from the end back to the beginning infinitely. **product** will combine two containers into one tuple, with each element from the first one combined with each element from the second. **combinations** will produce a sequence of every possible combination of elements from a container, while **permutations** will include combinations with different pair orderings too. **groupby** will group elements of a container together in particular categories based on a function parameter."
   ]
  },
  {
   "cell_type": "code",
   "execution_count": 2,
   "id": "bfbe1827",
   "metadata": {},
   "outputs": [
    {
     "name": "stdout",
     "output_type": "stream",
     "text": [
      "Python 3.7.7\r\n"
     ]
    }
   ],
   "source": [
    "# check your python version\n",
    "!python --version"
   ]
  },
  {
   "cell_type": "markdown",
   "id": "1a5e4d28",
   "metadata": {},
   "source": [
    "if you are checking in a terminal window, use following command instead<br>\n",
    "`python --version`"
   ]
  },
  {
   "cell_type": "code",
   "execution_count": 39,
   "id": "e3c88f21",
   "metadata": {},
   "outputs": [],
   "source": [
    "import itertools"
   ]
  },
  {
   "cell_type": "code",
   "execution_count": 40,
   "id": "59954022",
   "metadata": {},
   "outputs": [
    {
     "name": "stdout",
     "output_type": "stream",
     "text": [
      "('boots', 1)\n",
      "('boots', 2)\n",
      "('boots', 3)\n",
      "('boots', 4)\n",
      "('and', 1)\n",
      "('and', 2)\n",
      "('and', 3)\n",
      "('and', 4)\n",
      "('cats', 1)\n",
      "('cats', 2)\n",
      "('cats', 3)\n",
      "('cats', 4)\n",
      "('and', 1)\n",
      "('and', 2)\n",
      "('and', 3)\n",
      "('and', 4)\n"
     ]
    },
    {
     "ename": "StopIteration",
     "evalue": "",
     "output_type": "error",
     "traceback": [
      "\u001b[0;31m---------------------------------------------------------------------------\u001b[0m",
      "\u001b[0;31mStopIteration\u001b[0m                             Traceback (most recent call last)",
      "\u001b[0;32m<ipython-input-40-66cc84884252>\u001b[0m in \u001b[0;36m<module>\u001b[0;34m\u001b[0m\n\u001b[1;32m      1\u001b[0m \u001b[0mbeatboxer\u001b[0m \u001b[0;34m=\u001b[0m \u001b[0mitertools\u001b[0m\u001b[0;34m.\u001b[0m\u001b[0mproduct\u001b[0m\u001b[0;34m(\u001b[0m\u001b[0;34m[\u001b[0m\u001b[0;34m'boots'\u001b[0m\u001b[0;34m,\u001b[0m \u001b[0;34m'and'\u001b[0m\u001b[0;34m,\u001b[0m \u001b[0;34m'cats'\u001b[0m\u001b[0;34m,\u001b[0m \u001b[0;34m'and'\u001b[0m\u001b[0;34m]\u001b[0m\u001b[0;34m,\u001b[0m \u001b[0;34m[\u001b[0m\u001b[0;36m1\u001b[0m\u001b[0;34m,\u001b[0m \u001b[0;36m2\u001b[0m\u001b[0;34m,\u001b[0m \u001b[0;36m3\u001b[0m\u001b[0;34m,\u001b[0m \u001b[0;36m4\u001b[0m\u001b[0;34m]\u001b[0m\u001b[0;34m)\u001b[0m\u001b[0;34m\u001b[0m\u001b[0;34m\u001b[0m\u001b[0m\n\u001b[1;32m      2\u001b[0m \u001b[0;32mfor\u001b[0m \u001b[0mcount\u001b[0m \u001b[0;32min\u001b[0m \u001b[0mrange\u001b[0m\u001b[0;34m(\u001b[0m\u001b[0;36m200\u001b[0m\u001b[0;34m)\u001b[0m\u001b[0;34m:\u001b[0m\u001b[0;34m\u001b[0m\u001b[0;34m\u001b[0m\u001b[0m\n\u001b[0;32m----> 3\u001b[0;31m     \u001b[0mprint\u001b[0m\u001b[0;34m(\u001b[0m\u001b[0mnext\u001b[0m\u001b[0;34m(\u001b[0m\u001b[0mbeatboxer\u001b[0m\u001b[0;34m)\u001b[0m\u001b[0;34m)\u001b[0m\u001b[0;34m\u001b[0m\u001b[0;34m\u001b[0m\u001b[0m\n\u001b[0m",
      "\u001b[0;31mStopIteration\u001b[0m: "
     ]
    }
   ],
   "source": [
    "beatboxer = itertools.product(['boots', 'and', 'cats', 'and'], [1, 2, 3, 4])\n",
    "for count in range(200):\n",
    "    print(next(beatboxer))"
   ]
  },
  {
   "cell_type": "code",
   "execution_count": 41,
   "id": "1aeee80d",
   "metadata": {},
   "outputs": [
    {
     "name": "stdout",
     "output_type": "stream",
     "text": [
      "('boots', 'and')\n",
      "('boots', 'cats')\n",
      "('and', 'boots')\n",
      "('and', 'cats')\n",
      "('cats', 'boots')\n",
      "('cats', 'and')\n"
     ]
    },
    {
     "ename": "StopIteration",
     "evalue": "",
     "output_type": "error",
     "traceback": [
      "\u001b[0;31m---------------------------------------------------------------------------\u001b[0m",
      "\u001b[0;31mStopIteration\u001b[0m                             Traceback (most recent call last)",
      "\u001b[0;32m<ipython-input-41-82abca089e92>\u001b[0m in \u001b[0;36m<module>\u001b[0;34m\u001b[0m\n\u001b[1;32m      1\u001b[0m \u001b[0mbeatboxer\u001b[0m \u001b[0;34m=\u001b[0m \u001b[0mitertools\u001b[0m\u001b[0;34m.\u001b[0m\u001b[0mpermutations\u001b[0m\u001b[0;34m(\u001b[0m\u001b[0;34m[\u001b[0m\u001b[0;34m'boots'\u001b[0m\u001b[0;34m,\u001b[0m \u001b[0;34m'and'\u001b[0m\u001b[0;34m,\u001b[0m \u001b[0;34m'cats'\u001b[0m\u001b[0;34m]\u001b[0m\u001b[0;34m,\u001b[0m \u001b[0;36m2\u001b[0m\u001b[0;34m)\u001b[0m\u001b[0;34m\u001b[0m\u001b[0;34m\u001b[0m\u001b[0m\n\u001b[1;32m      2\u001b[0m \u001b[0;32mfor\u001b[0m \u001b[0mcount\u001b[0m \u001b[0;32min\u001b[0m \u001b[0mrange\u001b[0m\u001b[0;34m(\u001b[0m\u001b[0;36m100\u001b[0m\u001b[0;34m)\u001b[0m\u001b[0;34m:\u001b[0m\u001b[0;34m\u001b[0m\u001b[0;34m\u001b[0m\u001b[0m\n\u001b[0;32m----> 3\u001b[0;31m     \u001b[0mprint\u001b[0m\u001b[0;34m(\u001b[0m\u001b[0mnext\u001b[0m\u001b[0;34m(\u001b[0m\u001b[0mbeatboxer\u001b[0m\u001b[0;34m)\u001b[0m\u001b[0;34m)\u001b[0m\u001b[0;34m\u001b[0m\u001b[0;34m\u001b[0m\u001b[0m\n\u001b[0m",
      "\u001b[0;31mStopIteration\u001b[0m: "
     ]
    }
   ],
   "source": [
    "beatboxer = itertools.permutations(['boots', 'and', 'cats'], 2)\n",
    "for count in range(100):\n",
    "    print(next(beatboxer))"
   ]
  },
  {
   "cell_type": "code",
   "execution_count": 15,
   "id": "f0f48a43",
   "metadata": {},
   "outputs": [
    {
     "name": "stdout",
     "output_type": "stream",
     "text": [
      "('boots', 'and')\n",
      "('boots', 'cats')\n",
      "('and', 'cats')\n"
     ]
    },
    {
     "ename": "StopIteration",
     "evalue": "",
     "output_type": "error",
     "traceback": [
      "\u001b[0;31m---------------------------------------------------------------------------\u001b[0m",
      "\u001b[0;31mStopIteration\u001b[0m                             Traceback (most recent call last)",
      "\u001b[0;32m<ipython-input-15-885023fa98ed>\u001b[0m in \u001b[0;36m<module>\u001b[0;34m\u001b[0m\n\u001b[1;32m      1\u001b[0m \u001b[0mbeatboxer\u001b[0m \u001b[0;34m=\u001b[0m \u001b[0mitertools\u001b[0m\u001b[0;34m.\u001b[0m\u001b[0mcombinations\u001b[0m\u001b[0;34m(\u001b[0m\u001b[0;34m[\u001b[0m\u001b[0;34m'boots'\u001b[0m\u001b[0;34m,\u001b[0m \u001b[0;34m'and'\u001b[0m\u001b[0;34m,\u001b[0m \u001b[0;34m'cats'\u001b[0m\u001b[0;34m]\u001b[0m\u001b[0;34m,\u001b[0m \u001b[0;36m2\u001b[0m\u001b[0;34m)\u001b[0m\u001b[0;34m\u001b[0m\u001b[0;34m\u001b[0m\u001b[0m\n\u001b[1;32m      2\u001b[0m \u001b[0;32mfor\u001b[0m \u001b[0mcount\u001b[0m \u001b[0;32min\u001b[0m \u001b[0mrange\u001b[0m\u001b[0;34m(\u001b[0m\u001b[0;36m6\u001b[0m\u001b[0;34m)\u001b[0m\u001b[0;34m:\u001b[0m\u001b[0;34m\u001b[0m\u001b[0;34m\u001b[0m\u001b[0m\n\u001b[0;32m----> 3\u001b[0;31m     \u001b[0mprint\u001b[0m\u001b[0;34m(\u001b[0m\u001b[0mnext\u001b[0m\u001b[0;34m(\u001b[0m\u001b[0mbeatboxer\u001b[0m\u001b[0;34m)\u001b[0m\u001b[0;34m)\u001b[0m\u001b[0;34m\u001b[0m\u001b[0;34m\u001b[0m\u001b[0m\n\u001b[0m",
      "\u001b[0;31mStopIteration\u001b[0m: "
     ]
    }
   ],
   "source": [
    "beatboxer = itertools.combinations(['boots', 'and', 'cats'], 2)\n",
    "for count in range(6):\n",
    "    print(next(beatboxer))"
   ]
  },
  {
   "cell_type": "markdown",
   "id": "aad7d749",
   "metadata": {},
   "source": [
    "### Exercise 1. What output does the following code print?\n",
    "```\n",
    "beatboxer = itertools.cycle(['boots', 'and', 'cats', 'and'])\n",
    "for count in range(39):\n",
    "    print(next(beatboxer))\n",
    "```"
   ]
  },
  {
   "cell_type": "code",
   "execution_count": 44,
   "id": "53b8d565",
   "metadata": {},
   "outputs": [
    {
     "name": "stdout",
     "output_type": "stream",
     "text": [
      "0 boots\n",
      "1 and\n",
      "2 cats\n",
      "3 and\n",
      "4 boots\n",
      "5 and\n",
      "6 cats\n",
      "7 and\n",
      "8 boots\n",
      "9 and\n",
      "10 cats\n",
      "11 and\n",
      "12 boots\n",
      "13 and\n",
      "14 cats\n",
      "15 and\n",
      "16 boots\n",
      "17 and\n",
      "18 cats\n",
      "19 and\n",
      "20 boots\n",
      "21 and\n",
      "22 cats\n",
      "23 and\n",
      "24 boots\n",
      "25 and\n",
      "26 cats\n",
      "27 and\n",
      "28 boots\n",
      "29 and\n",
      "30 cats\n",
      "31 and\n",
      "32 boots\n",
      "33 and\n",
      "34 cats\n",
      "35 and\n",
      "36 boots\n",
      "37 and\n",
      "38 cats\n"
     ]
    }
   ],
   "source": [
    "import itertools\n",
    "beatboxer = itertools.cycle(['boots', 'and', 'cats', 'and'])\n",
    "for i in range(39):\n",
    "    print(i, next(beatboxer))"
   ]
  },
  {
   "cell_type": "markdown",
   "id": "3d9eec2f",
   "metadata": {},
   "source": [
    "### 2. What is “recursion”? What makes a function recursive?\n",
    "\n",
    "Recursion is where a function **calls itself repeatedly** to solve a problem. Rather than using a loop to iterate through a sequence or repeat an action, a recursive function usually calls itself with a **smaller or broken-down version** of the input until it reaches the answer."
   ]
  },
  {
   "cell_type": "code",
   "execution_count": 4,
   "id": "66f4a1f4",
   "metadata": {},
   "outputs": [
    {
     "name": "stdout",
     "output_type": "stream",
     "text": [
      "[1, 2, 3]\n",
      "[1, 2]\n",
      "[1]\n",
      "[]\n"
     ]
    },
    {
     "data": {
      "text/plain": [
       "[]"
      ]
     },
     "execution_count": 4,
     "metadata": {},
     "output_type": "execute_result"
    }
   ],
   "source": [
    "def recursive_func(nums):\n",
    "    '''Takes a list of numbers as input,\n",
    "    recursively remove the last item until reach empty\n",
    "    '''\n",
    "    print(nums)  # dignostic print statement\n",
    "    if not nums:\n",
    "        return []\n",
    "    \n",
    "    return recursive_func(nums[:-1])\n",
    "\n",
    "recursive_func([1,2,3])"
   ]
  },
  {
   "cell_type": "markdown",
   "id": "bdede057",
   "metadata": {},
   "source": [
    "### 3. What are the two parts of a recursive function?\n",
    "\n",
    "Recursive functions include a “**recursive case**”, where the function calls itself with a reduced or simpler input; \n",
    "\n",
    "and a “**base case**” where the function has reached the smallest input or simplest version of the problem: it stops recursing and returns an answer."
   ]
  },
  {
   "cell_type": "code",
   "execution_count": 47,
   "id": "43dda3ed",
   "metadata": {},
   "outputs": [
    {
     "data": {
      "text/plain": [
       "False"
      ]
     },
     "execution_count": 47,
     "metadata": {},
     "output_type": "execute_result"
    }
   ],
   "source": [
    "def contains(target, nums):\n",
    "    '''Takes a list of numbers and a target number as input,\n",
    "    find if the target number exist in the list,\n",
    "    return True if it exists. Otherwise, return False.'''\n",
    "    \n",
    "    \n",
    "    ''''base case'''\n",
    "    if not nums:  # simplest version reaches, will not call itself. Recusion stops\n",
    "        return False\n",
    "    \n",
    "    '''recursive case'''\n",
    "    if nums.pop() == target:  # \"broken-down\"\n",
    "        return True\n",
    "    \n",
    "    return contains(target, nums)  # call itself, recursion\n",
    "\n",
    "\n",
    "\n",
    "contains(4, [1,2,3])"
   ]
  },
  {
   "cell_type": "markdown",
   "id": "3c4b971b",
   "metadata": {},
   "source": [
    "### 4. In what cases is recursion useful? Where should it be used with caution?\n",
    "\n",
    "Recursion is useful where an iterative solution would require **nesting of loops proportionate to the size of the input**, such as the powerset problem or the change problem from lectures. Otherwise, there will often be an equally elegant iterative solution, and since function calls are expensive, it’s often more efficient to use the iterative approach. Some algorithms you will learn about in future subjects depend on recursion, and it can be a powerful technique when trying to sort data.\n",
    "\n",
    "See example in Exercise 2"
   ]
  },
  {
   "cell_type": "code",
   "execution_count": 5,
   "id": "d6a4871b",
   "metadata": {},
   "outputs": [
    {
     "data": {
      "text/plain": [
       "10"
      ]
     },
     "execution_count": 5,
     "metadata": {},
     "output_type": "execute_result"
    }
   ],
   "source": [
    "def mystery(x):\n",
    "    if len(x) == 1:\n",
    "        return x[0]\n",
    "    \n",
    "    else:\n",
    "        y = mystery(x[1:])\n",
    "        \n",
    "        if x[0] > y:\n",
    "            return x[0]\n",
    "        else:\n",
    "            return y\n",
    "\n",
    "mystery([2,3,10,9])"
   ]
  },
  {
   "cell_type": "code",
   "execution_count": 5,
   "id": "8f69b3a5",
   "metadata": {},
   "outputs": [
    {
     "data": {
      "text/plain": [
       "10"
      ]
     },
     "execution_count": 5,
     "metadata": {},
     "output_type": "execute_result"
    }
   ],
   "source": [
    "def iter_mystery(x):\n",
    "    \"\"\"\n",
    "    iterative approach\n",
    "    \"\"\"\n",
    "    if len(x)==1:\n",
    "        return x[i]\n",
    "    \n",
    "    curr_max = 0\n",
    "    for i in range(len(x)-1):\n",
    "        for j in range(i+1, len(x)):  # nesting loops, proportionate to [i+1, len(x))\n",
    "            curr_max = max(x[i],x[j],curr_max)\n",
    "    return curr_max\n",
    "                                  \n",
    "iter_mystery([2,3,10,9])"
   ]
  },
  {
   "cell_type": "code",
   "execution_count": 48,
   "id": "4f882441",
   "metadata": {},
   "outputs": [],
   "source": [
    "def mistero(x):\n",
    "    a = len(x)\n",
    "    if a == 1:\n",
    "        return x[0]\n",
    "    else:\n",
    "        \n",
    "        y = mistero(x[a//2:])\n",
    "        z = mistero(x[:a//2])  \n",
    "        if z > y:\n",
    "            return z\n",
    "        else:\n",
    "            return y"
   ]
  }
 ],
 "metadata": {
  "kernelspec": {
   "display_name": "Python 3",
   "language": "python",
   "name": "python3"
  },
  "language_info": {
   "codemirror_mode": {
    "name": "ipython",
    "version": 3
   },
   "file_extension": ".py",
   "mimetype": "text/x-python",
   "name": "python",
   "nbconvert_exporter": "python",
   "pygments_lexer": "ipython3",
   "version": "3.7.7"
  }
 },
 "nbformat": 4,
 "nbformat_minor": 5
}
