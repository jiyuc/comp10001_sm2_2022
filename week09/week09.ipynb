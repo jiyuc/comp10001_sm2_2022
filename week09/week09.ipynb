{
 "cells": [
  {
   "cell_type": "markdown",
   "id": "noble-puppy",
   "metadata": {},
   "source": [
    "## <p style=\"text-align: center\">COMP10001 Foundations of Computing<br>Semester 2, 2022<br>Tutorial Questions: Week 9 </p>\n",
    "### <p style=\"text-align: center\">Tutor: [Jiyu Chen](https://jiyuc.live)</p>"
   ]
  },
  {
   "cell_type": "markdown",
   "id": "technological-level",
   "metadata": {},
   "source": [
    "### 1. What is a “list comprehension”? How do we write one and how do they make our code simpler?\n",
    "\n",
    "A **list comprehension** is a shortcut notation used to accomplish simple iteration tasks involving a collection (usually list, but also possibly a set or dictionary) in one line of code. List comprehensions are formed by wrapping a pair of brackets around `<expression> <for iteration statement> <optional if filter condition>`. The iteration statement will be run and for each iteration, the result of the expression will be added to the collection - which could be a list, set or dictionary. If a filter condition is included, the object will only be added if that condition evaluates to True.\n",
    "\n",
    "List comprehensions are useful to shorten repetitive, simple loops into readable single lines of code. They are especially useful for **initialising lists**. Avoid cramming too much into list comprehensions or nesting them inside each other: we want them to remain readable.\n",
    "\n",
    "#### For example, using traditional for-loop or list comprehension to create a list of odd numbers"
   ]
  },
  {
   "cell_type": "code",
   "execution_count": 15,
   "id": "17c4994d",
   "metadata": {},
   "outputs": [],
   "source": [
    "a,b = list(range(10)),list(range(10))\n",
    "x = list(zip(a,b))"
   ]
  },
  {
   "cell_type": "code",
   "execution_count": 17,
   "id": "intermediate-father",
   "metadata": {},
   "outputs": [
    {
     "name": "stdout",
     "output_type": "stream",
     "text": [
      "[0, 1, 2, 3, 4, 5, 6, 7, 8, 9]\n",
      "{0, 1, 2, 3, 4, 5, 6, 7, 8, 9}\n"
     ]
    }
   ],
   "source": [
    "nums = []\n",
    "for i in range(10): # for iteration statement\n",
    "  # if filter condition\n",
    "        nums.append(i) # expression\n",
    "print(nums)\n",
    "a,b = range(10),range(10)\n",
    "\n",
    "# list comprehension: <expression> <for iteration statement> <optional if filter condition>\n",
    "nums = (i for i,j in x)\n",
    "print(nums)"
   ]
  },
  {
   "cell_type": "markdown",
   "id": "44d39b06",
   "metadata": {},
   "source": [
    "#### Note: During the exam, You might be asked to write a **SINGLE** line of expression, with utility of list comprehension, to produce certain output."
   ]
  },
  {
   "cell_type": "markdown",
   "id": "7113b046",
   "metadata": {},
   "source": [
    "### 2. What happens if we use curly brackets instead of square brackets around a “list” comprehension? What happens if we use parentheses?"
   ]
  },
  {
   "cell_type": "markdown",
   "id": "c3256bb3",
   "metadata": {},
   "source": [
    "### Exercise 1. Evaluate the following list comprehensions. For each one, also write some python code to generate the same list without using a comprehension.\n",
    "\n",
    "```\n",
    "(a) [(name, 0) for name in (\"evelyn\", \"alex\", \"sam\")]\n",
    "\n",
    "(b) [i**2 for i in range(5) if i % 2 == 1]\n",
    "\n",
    "(c) \"\".join([letter.upper() for letter in \"python\"])\n",
    "```"
   ]
  },
  {
   "cell_type": "code",
   "execution_count": 2,
   "id": "1b46b60e",
   "metadata": {},
   "outputs": [
    {
     "name": "stdout",
     "output_type": "stream",
     "text": [
      "(a) [('evelyn', 0), ('alex', 0), ('sam', 0)]\n",
      "(b) [1, 9]\n",
      "(c) PYTHON\n"
     ]
    }
   ],
   "source": [
    "#(a)\n",
    "temp = []\n",
    "for name in (\"evelyn\", \"alex\", \"sam\"):\n",
    "    temp.append((name, 0))\n",
    "print('(a)', temp)\n",
    "\n",
    "#(b)\n",
    "temp = []\n",
    "for i in range(5):\n",
    "    if i % 2 == 1:\n",
    "        temp.append(i**2)\n",
    "print('(b)', temp)\n",
    "\n",
    "#(c)\n",
    "temp = []\n",
    "for letter in \"python\":\n",
    "    temp.append(letter.upper())\n",
    "print('(c)', \"\".join(temp))"
   ]
  },
  {
   "cell_type": "markdown",
   "id": "hispanic-convenience",
   "metadata": {},
   "source": [
    "### 3. Why do we use “files”? Could we use computers without them?\n",
    "\n",
    "Files allow us to store data on a computer **permanently**. Files **persist** on storage media after a program is terminated, as opposed to internal data storage such as lists and dictionaries which exist in the computer’s **temporary memory** and are erased when the program finishes. (Assuming you're writing a Word document and you forget to hit the `save` button. Suddenly, your computer dead. After rebooting, your writing disappeared.)\n",
    "\n",
    "Files are also useful for storing large amounts of data in a structured way and sharing it with others. It would not be possible to use code for solving many big data problems without them. In fact, it would not be possible to write code without them!\n",
    "\n",
    "**Why computers need memory? Why not let a program directly reading and writing on the hard disk?**\n",
    "<img src=\"memory_hier.png\" width=\"600\" height=\"300\">\n",
    "\n"
   ]
  },
  {
   "cell_type": "markdown",
   "id": "mighty-newark",
   "metadata": {},
   "source": [
    "### 4. What are the steps to reading and writing files?\n",
    "\n",
    "In Python, to open a file we use the `open()` function, which takes two arguments: the file’s `filename` as a string; and another string which represents the `“mode”` for access. Some common modes are `'r'` for reading; `'w'` for writing (erasing all file contents if the file exists initially); and `'a'` for appending to an already-existing file. \n",
    "\n",
    "`open()` returns a “file object” which is used to access the file.\n",
    "\n",
    "Some common ways to **read** a file are using the `file.read()` method to read a whole file, returning a string; `file.readline()` to read one line of the file, returning a string; and `file.readlines()` to read an entire file, returning a list with each row of the file split as a separate element in the list. \n",
    "\n",
    "To **write**, use the `file.write()` method to write a string to output.\n",
    "When finished with a file, be sure to close it with the `file.close()` method to prevent buffer errors."
   ]
  },
  {
   "cell_type": "code",
   "execution_count": 25,
   "id": "dutch-paste",
   "metadata": {},
   "outputs": [],
   "source": [
    "file_object = open('./in.txt','r')"
   ]
  },
  {
   "cell_type": "code",
   "execution_count": 22,
   "id": "404fd489",
   "metadata": {},
   "outputs": [
    {
     "name": "stdout",
     "output_type": "stream",
     "text": [
      "\n",
      ">>Reading file use read():\n",
      "\n",
      "To study the representational power of a GNN, we analyze when a GNN maps two nodes to the same location in the embedding space.\n",
      "Intuitively, a maximally powerful GNN maps two nodes to the same location only if they have identical subtree structures with identical features on the corresponding nodes.\n",
      "Since subtree structures are defined recursively via node neighborhoods (Figure 1), we can reduce our analysis to the question whether a GNN maps two neighborhoods (i.e., two multisets) to the same embedding or representation.\n",
      "A maximally powerful GNN would never map two different neighborhoods, i.e., multisets of feature vectors, to the same representation.\n",
      "This means its aggregation scheme must be injective.\n",
      "Thus, we abstract a GNN’s aggregation scheme as a class of functions over multisets that their neural networks can represent, and analyze whether they are able to represent injective multiset functions.\n"
     ]
    }
   ],
   "source": [
    "print(\"\\n>>Reading file use read():\\n\")\n",
    "print(file_object.read())\n",
    "file_object.close()  # close the file object!"
   ]
  },
  {
   "cell_type": "code",
   "execution_count": 24,
   "id": "5fb3974a",
   "metadata": {},
   "outputs": [
    {
     "name": "stdout",
     "output_type": "stream",
     "text": [
      "\n",
      ">>Reading file use readline():\n",
      "\n",
      "To study the representational power of a GNN, we analyze when a GNN maps two nodes to the same location in the embedding space.\n",
      "\n"
     ]
    }
   ],
   "source": [
    "print(\"\\n>>Reading file use readline():\\n\")\n",
    "print(file_object.readline())\n",
    "file_object.close()  # close the file object!"
   ]
  },
  {
   "cell_type": "code",
   "execution_count": 26,
   "id": "greenhouse-alabama",
   "metadata": {},
   "outputs": [
    {
     "name": "stdout",
     "output_type": "stream",
     "text": [
      "\n",
      ">>Reading file use readlines():\n",
      "\n",
      "['To study the representational power of a GNN, we analyze when a GNN maps two nodes to the same location in the embedding space.\\n', 'Intuitively, a maximally powerful GNN maps two nodes to the same location only if they have identical subtree structures with identical features on the corresponding nodes.\\n', 'Since subtree structures are defined recursively via node neighborhoods (Figure 1), we can reduce our analysis to the question whether a GNN maps two neighborhoods (i.e., two multisets) to the same embedding or representation.\\n', 'A maximally powerful GNN would never map two different neighborhoods, i.e., multisets of feature vectors, to the same representation.\\n', 'This means its aggregation scheme must be injective.\\n', 'Thus, we abstract a GNN’s aggregation scheme as a class of functions over multisets that their neural networks can represent, and analyze whether they are able to represent injective multiset functions.']\n"
     ]
    }
   ],
   "source": [
    "print(\"\\n>>Reading file use readlines():\\n\")\n",
    "print(open('./in.txt','r').readlines())\n",
    "file_object.close()  # close the file object!"
   ]
  },
  {
   "cell_type": "code",
   "execution_count": 27,
   "id": "7efb0cbb",
   "metadata": {},
   "outputs": [
    {
     "data": {
      "text/plain": [
       "['To study the representational power of a GNN, we analyze when a GNN maps two nodes to the same location in the embedding space.',\n",
       " 'Intuitively, a maximally powerful GNN maps two nodes to the same location only if they have identical subtree structures with identical features on the corresponding nodes.',\n",
       " 'Since subtree structures are defined recursively via node neighborhoods (Figure 1), we can reduce our analysis to the question whether a GNN maps two neighborhoods (i.e., two multisets) to the same embedding or representation.',\n",
       " 'A maximally powerful GNN would never map two different neighborhoods, i.e., multisets of feature vectors, to the same representation.',\n",
       " 'This means its aggregation scheme must be injective.',\n",
       " 'Thus, we abstract a GNN’s aggregation scheme as a class of functions over multisets that their neural networks can represent, and analyze whether they are able to represent injective multiset functions.']"
      ]
     },
     "execution_count": 27,
     "metadata": {},
     "output_type": "execute_result"
    }
   ],
   "source": [
    "[line.strip('\\n') for line in open('./in.txt','r').readlines()]"
   ]
  },
  {
   "cell_type": "code",
   "execution_count": 11,
   "id": "extensive-swedish",
   "metadata": {},
   "outputs": [
    {
     "name": "stdout",
     "output_type": "stream",
     "text": [
      "\n",
      ">>Reading file using for-loop:\n",
      "\n",
      "To study the representational power of a GNN, we analyze when a GNN maps two nodes to the same location in the embedding space.\n",
      "\n",
      "Intuitively, a maximally powerful GNN maps two nodes to the same location only if they have identical subtree structures with identical features on the corresponding nodes.\n",
      "\n",
      "Since subtree structures are defined recursively via node neighborhoods (Figure 1), we can reduce our analysis to the question whether a GNN maps two neighborhoods (i.e., two multisets) to the same embedding or representation.\n",
      "\n",
      "A maximally powerful GNN would never map two different neighborhoods, i.e., multisets of feature vectors, to the same representation.\n",
      "\n",
      "This means its aggregation scheme must be injective.\n",
      "\n",
      "Thus, we abstract a GNN’s aggregation scheme as a class of functions over multisets that their neural networks can represent, and analyze whether they are able to represent injective multiset functions.\n"
     ]
    }
   ],
   "source": [
    "print(\"\\n>>Reading file using for-loop:\\n\")\n",
    "with open('./in.txt','r') as f: # f = open('./in.txt','r') \n",
    "    for line in f:  # f.readlines()\n",
    "        print(line)\n",
    "        \n",
    "f.close()  # close the file object!"
   ]
  },
  {
   "cell_type": "markdown",
   "id": "needed-lemon",
   "metadata": {},
   "source": [
    "### 5. What is a “csv” file and why is it useful for storing and manipulating data?\n",
    "\n",
    "A csv (comma separated values) file is a text file stored in a particular format, similar to that of a spreadsheet. That is, as rows of data with individual values separated by a comma (`,`) and rows separated by a new line character `\\n`. \n",
    "\n",
    "csv data is useful for storing statistics or measurement data because the structure of the file allows Python to read and process the data in its spreadsheet-like format. Python’s `csv` library is very useful for processing csv files."
   ]
  },
  {
   "cell_type": "code",
   "execution_count": 28,
   "id": "automotive-lender",
   "metadata": {},
   "outputs": [
    {
     "name": "stdout",
     "output_type": "stream",
     "text": [
      "242969\n",
      "368572\n",
      "13715\n",
      "62069\n",
      "56417\n"
     ]
    }
   ],
   "source": [
    "import csv\n",
    "\n",
    "COLUMN_NAME = 'Train'\n",
    "\n",
    "fp = open(\"travel.csv\")\n",
    "\n",
    "for row in csv.DictReader(fp):  # for loop iterate through rows\n",
    "    #print(row)\n",
    "    print(row[COLUMN_NAME])  # access cell on a row by specifiying the column name\n",
    "    \n",
    "\n"
   ]
  },
  {
   "cell_type": "markdown",
   "id": "d63b5b12",
   "metadata": {},
   "source": [
    "### Exercise 2. Fill in the blanks `...` in the program below which reads from in.txt and writes to `out.txt`."
   ]
  },
  {
   "cell_type": "code",
   "execution_count": 29,
   "id": "98b65ecf",
   "metadata": {},
   "outputs": [],
   "source": [
    "outfile = open(\"out.txt\", \"w\")"
   ]
  },
  {
   "cell_type": "code",
   "execution_count": 30,
   "id": "f30f055a",
   "metadata": {},
   "outputs": [],
   "source": [
    "\n",
    "outfile = open(\"out.txt\", \"w\")  # 1\n",
    "with open(\"in.txt\", \"r\") as infile:  # 2\n",
    "    line_no = 1\n",
    "    for line in infile:  # 3\n",
    "        outfile.write(f\"line: {line_no}, length: {len(line)}\\n\")  # 4\n",
    "        line_no += 1\n",
    "outfile.write(\"The End\")\n",
    "outfile.close()  # 5\n"
   ]
  },
  {
   "cell_type": "markdown",
   "id": "b221a9a7",
   "metadata": {},
   "source": [
    "### Exercise 3. `travel.csv` is a csv file containing data on how people get to work in different cities in Australia. `process.py` is a python program which processes this data. What information does the `process.py` attempt to find and print?\n",
    "\n",
    "\n",
    "```\n",
    "\"travel.csv\"\n",
    "\n",
    "City,Train,Tram,Bus,Ferry,Car,Total\n",
    "Melbourne,242969,55169,31937,783,1282997,1613855\n",
    "Sydney,368572,3210,138340,9007,1206350,1725482\n",
    "Adelaide,13715,4137,33673,211,390360,442102\n",
    "Brisbane,62069,229,58228,3761,663353,787650\n",
    "Perth,56417,223,37899,373,594571,689489\n",
    "\n",
    "```\n",
    "\n",
    "Data Source: Census of Population and Housing, 2016, TableBuilder"
   ]
  },
  {
   "cell_type": "code",
   "execution_count": 32,
   "id": "c82e6ef8",
   "metadata": {},
   "outputs": [
    {
     "name": "stdout",
     "output_type": "stream",
     "text": [
      "Melbourne\n"
     ]
    }
   ],
   "source": [
    "''' process.py '''\n",
    "import csv\n",
    "\n",
    "fp = open(\"travel.csv\")\n",
    "city = ''\n",
    "curr_max = 0.0\n",
    "for row in csv.DictReader(fp):\n",
    "    ferry = int(row[\"Tram\"])\n",
    "    total = int(row[\"Total\"])\n",
    "    if ferry / total > curr_max:\n",
    "        city = row[\"City\"]\n",
    "        curr_max = ferry / total\n",
    "print(city)"
   ]
  },
  {
   "cell_type": "code",
   "execution_count": null,
   "id": "b1015854",
   "metadata": {},
   "outputs": [],
   "source": []
  }
 ],
 "metadata": {
  "kernelspec": {
   "display_name": "Python 3",
   "language": "python",
   "name": "python3"
  },
  "language_info": {
   "codemirror_mode": {
    "name": "ipython",
    "version": 3
   },
   "file_extension": ".py",
   "mimetype": "text/x-python",
   "name": "python",
   "nbconvert_exporter": "python",
   "pygments_lexer": "ipython3",
   "version": "3.7.7"
  }
 },
 "nbformat": 4,
 "nbformat_minor": 5
}
