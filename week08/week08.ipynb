{
 "cells": [
  {
   "cell_type": "markdown",
   "id": "e7ff810d",
   "metadata": {},
   "source": [
    "### Replacement sessions for next Friday\n",
    "\n",
    "### 3:15-4:15 p.m. Either Monday or Tuesday, online"
   ]
  },
  {
   "cell_type": "markdown",
   "id": "adaptive-start",
   "metadata": {},
   "source": [
    "## <p style=\"text-align: center\">COMP10001 Foundations of Computing<br>Semester 2, 2022<br>Tutorial Questions: Week 8 </p>\n",
    "### <p style=\"text-align: center\">Tutor: [Jiyu Chen](https://jiyuc.live) </p>"
   ]
  },
  {
   "cell_type": "code",
   "execution_count": 1,
   "id": "411f6b6e",
   "metadata": {},
   "outputs": [],
   "source": [
    "# install requirements\n",
    "\n",
    "! pip install nltk\n",
    "import nltk\n",
    "nltk.download('brown')\n",
    "from nltk.corpus import brown\n",
    "article = brown.words()[:300]"
   ]
  },
  {
   "cell_type": "markdown",
   "id": "cheap-member",
   "metadata": {},
   "source": [
    "## 1. What is a “library”? How do we access them?\n",
    "\n",
    "A library contains a group of methods or variables which can extend Python to perform more diverse operations. To access the contents of a library, we import it using the `import` keyword. This adds the module to our program’s namespace so it can be used. \n",
    "\n",
    "- `import <library>` imports the entire library, with any methods or constants it contains. \n",
    "\n",
    "- `from <library> import <name>` imports a particular method or value from that library.\n",
    "\n",
    "For example, let's create a mini library and import it into our project"
   ]
  },
  {
   "cell_type": "code",
   "execution_count": 1,
   "id": "employed-egyptian",
   "metadata": {},
   "outputs": [
    {
     "name": "stdout",
     "output_type": "stream",
     "text": [
      "second!\n"
     ]
    }
   ],
   "source": [
    "import my_library\n",
    "a = my_library.second_cls()"
   ]
  },
  {
   "cell_type": "code",
   "execution_count": 2,
   "id": "5a1c3606",
   "metadata": {},
   "outputs": [
    {
     "name": "stdout",
     "output_type": "stream",
     "text": [
      "first!\n"
     ]
    }
   ],
   "source": [
    "from my_library import first_cls\n",
    "a = first_cls()"
   ]
  },
  {
   "cell_type": "code",
   "execution_count": 4,
   "id": "e30033a2",
   "metadata": {},
   "outputs": [
    {
     "name": "stdout",
     "output_type": "stream",
     "text": [
      "Melbourne\n"
     ]
    }
   ],
   "source": [
    "from my_library import LOCATION\n",
    "print(LOCATION)"
   ]
  },
  {
   "cell_type": "code",
   "execution_count": null,
   "id": "20e3577b",
   "metadata": {},
   "outputs": [],
   "source": [
    "import my_library\n",
    "my_library.LOCATION"
   ]
  },
  {
   "cell_type": "markdown",
   "id": "fantastic-accent",
   "metadata": {},
   "source": [
    "## 2. What is a “defaultdict”? How do we initialise and use it?\n",
    "\n",
    "A `defaultdict` is a data type contained in the `<collections>` library. https://docs.python.org/3/library/collections.html#collections.defaultdict\n",
    "\n",
    "It has the same behaviour as a **dictionary** with the added functionality of initialising new keys to a default value when trying to use them. To use a defaultdict, you must first import it by including the line `from collections import defaultdict` **at the top of your program**. Then, to create a defaultdict, you call `defaultdict(<type>)` where type is the data type of the values in the dictionary (the keys can be of any immutable type). When requesting or updating values which haven’t been previously set, rather than raising a KeyError, Python will initialise the value to the “zero value” of that data type (zero for numbers, an empty container for strings, lists, dictionaries etc,.)\n",
    "\n",
    "Assign pre-set default value to keys that do not exist in the dictionary\n",
    "\n",
    "Defaultdicts are especially useful for counting, as you can increment for each time you see something without worrying about initialising it if it’s the first time you’ve seen that value."
   ]
  },
  {
   "cell_type": "code",
   "execution_count": 23,
   "id": "a708a36d",
   "metadata": {},
   "outputs": [
    {
     "name": "stdout",
     "output_type": "stream",
     "text": [
      "['The', 'Fulton', 'County', 'Grand', 'Jury', 'said', 'Friday', 'an', 'investigation', 'of', \"Atlanta's\", 'recent', 'primary', 'election', 'produced', '``', 'no', 'evidence', \"''\", 'that', 'any', 'irregularities', 'took', 'place', '.', 'The', 'jury', 'further', 'said', 'in', 'term-end', 'presentments', 'that', 'the', 'City', 'Executive', 'Committee', ',', 'which', 'had', 'over-all', 'charge', 'of', 'the', 'election', ',', '``', 'deserves', 'the', 'praise', 'and', 'thanks', 'of', 'the', 'City', 'of', 'Atlanta', \"''\", 'for', 'the', 'manner', 'in', 'which', 'the', 'election', 'was', 'conducted', '.', 'The', 'September-October', 'term', 'jury', 'had', 'been', 'charged', 'by', 'Fulton', 'Superior', 'Court', 'Judge', 'Durwood', 'Pye', 'to', 'investigate', 'reports', 'of', 'possible', '``', 'irregularities', \"''\", 'in', 'the', 'hard-fought', 'primary', 'which', 'was', 'won', 'by', 'Mayor-nominate', 'Ivan', 'Allen', 'Jr.', '.', '``', 'Only', 'a', 'relative', 'handful', 'of', 'such', 'reports', 'was', 'received', \"''\", ',', 'the', 'jury', 'said', ',', '``', 'considering', 'the', 'widespread', 'interest', 'in', 'the', 'election', ',', 'the', 'number', 'of', 'voters', 'and', 'the', 'size', 'of', 'this', 'city', \"''\", '.', 'The', 'jury', 'said', 'it', 'did', 'find', 'that', 'many', 'of', \"Georgia's\", 'registration', 'and', 'election', 'laws', '``', 'are', 'outmoded', 'or', 'inadequate', 'and', 'often', 'ambiguous', \"''\", '.', 'It', 'recommended', 'that', 'Fulton', 'legislators', 'act', '``', 'to', 'have', 'these', 'laws', 'studied', 'and', 'revised', 'to', 'the', 'end', 'of', 'modernizing', 'and', 'improving', 'them', \"''\", '.', 'The', 'grand', 'jury', 'commented', 'on', 'a', 'number', 'of', 'other', 'topics', ',', 'among', 'them', 'the', 'Atlanta', 'and', 'Fulton', 'County', 'purchasing', 'departments', 'which', 'it', 'said', '``', 'are', 'well', 'operated', 'and', 'follow', 'generally', 'accepted', 'practices', 'which', 'inure', 'to', 'the', 'best', 'interest', 'of', 'both', 'governments', \"''\", '.', 'Merger', 'proposed', 'However', ',', 'the', 'jury', 'said', 'it', 'believes', '``', 'these', 'two', 'offices', 'should', 'be', 'combined', 'to', 'achieve', 'greater', 'efficiency', 'and', 'reduce', 'the', 'cost', 'of', 'administration', \"''\", '.', 'The', 'City', 'Purchasing', 'Department', ',', 'the', 'jury', 'said', ',', '``', 'is', 'lacking', 'in', 'experienced', 'clerical', 'personnel', 'as', 'a', 'result', 'of', 'city', 'personnel', 'policies', \"''\", '.', 'It', 'urged', 'that', 'the', 'city', '``', 'take', 'steps', 'to', 'remedy', \"''\", 'this', 'problem', '.', 'Implementation', 'of']\n"
     ]
    }
   ],
   "source": [
    "print([word for word in article])"
   ]
  },
  {
   "cell_type": "code",
   "execution_count": 24,
   "id": "d99f9eb9",
   "metadata": {},
   "outputs": [
    {
     "name": "stdout",
     "output_type": "stream",
     "text": [
      "defaultdict(<class 'int'>, {'The': 6, 'Fulton': 4, 'County': 2, 'Grand': 1, 'Jury': 1, 'said': 7, 'Friday': 1, 'an': 1, 'investigation': 1, 'of': 15, \"Atlanta's\": 1, 'recent': 1, 'primary': 2, 'election': 5, 'produced': 1, '``': 11, 'no': 1, 'evidence': 1, \"''\": 11, 'that': 5, 'any': 1, 'irregularities': 2, 'took': 1, 'place': 1, '.': 10, 'jury': 7, 'further': 1, 'in': 5, 'term-end': 1, 'presentments': 1, 'the': 19, 'City': 3, 'Executive': 1, 'Committee': 1, ',': 9, 'which': 5, 'had': 2, 'over-all': 1, 'charge': 1, 'deserves': 1, 'praise': 1, 'and': 9, 'thanks': 1, 'Atlanta': 2, 'for': 1, 'manner': 1, 'was': 3, 'conducted': 1, 'September-October': 1, 'term': 1, 'been': 1, 'charged': 1, 'by': 2, 'Superior': 1, 'Court': 1, 'Judge': 1, 'Durwood': 1, 'Pye': 1, 'to': 6, 'investigate': 1, 'reports': 2, 'possible': 1, 'hard-fought': 1, 'won': 1, 'Mayor-nominate': 1, 'Ivan': 1, 'Allen': 1, 'Jr.': 1, 'Only': 1, 'a': 3, 'relative': 1, 'handful': 1, 'such': 1, 'received': 1, 'considering': 1, 'widespread': 1, 'interest': 2, 'number': 2, 'voters': 1, 'size': 1, 'this': 2, 'city': 3, 'it': 3, 'did': 1, 'find': 1, 'many': 1, \"Georgia's\": 1, 'registration': 1, 'laws': 2, 'are': 2, 'outmoded': 1, 'or': 1, 'inadequate': 1, 'often': 1, 'ambiguous': 1, 'It': 2, 'recommended': 1, 'legislators': 1, 'act': 1, 'have': 1, 'these': 2, 'studied': 1, 'revised': 1, 'end': 1, 'modernizing': 1, 'improving': 1, 'them': 2, 'grand': 1, 'commented': 1, 'on': 1, 'other': 1, 'topics': 1, 'among': 1, 'purchasing': 1, 'departments': 1, 'well': 1, 'operated': 1, 'follow': 1, 'generally': 1, 'accepted': 1, 'practices': 1, 'inure': 1, 'best': 1, 'both': 1, 'governments': 1, 'Merger': 1, 'proposed': 1, 'However': 1, 'believes': 1, 'two': 1, 'offices': 1, 'should': 1, 'be': 1, 'combined': 1, 'achieve': 1, 'greater': 1, 'efficiency': 1, 'reduce': 1, 'cost': 1, 'administration': 1, 'Purchasing': 1, 'Department': 1, 'is': 1, 'lacking': 1, 'experienced': 1, 'clerical': 1, 'personnel': 2, 'as': 1, 'result': 1, 'policies': 1, 'urged': 1, 'take': 1, 'steps': 1, 'remedy': 1, 'problem': 1, 'Implementation': 1})\n"
     ]
    }
   ],
   "source": [
    "from collections import defaultdict\n",
    "\n",
    "word_count = defaultdict(int)\n",
    "for word in article:\n",
    "    \n",
    "    word_count[word] += 1\n",
    "    \n",
    "print(word_count)"
   ]
  },
  {
   "cell_type": "code",
   "execution_count": 25,
   "id": "593d1925",
   "metadata": {},
   "outputs": [
    {
     "data": {
      "text/plain": [
       "0"
      ]
     },
     "execution_count": 25,
     "metadata": {},
     "output_type": "execute_result"
    }
   ],
   "source": [
    "# inexisting key-value\n",
    "word_count['xijfkn']"
   ]
  },
  {
   "cell_type": "code",
   "execution_count": 28,
   "id": "63e85708",
   "metadata": {},
   "outputs": [
    {
     "data": {
      "text/plain": [
       "0.0"
      ]
     },
     "execution_count": 28,
     "metadata": {},
     "output_type": "execute_result"
    }
   ],
   "source": [
    "a = defaultdict(float)\n",
    "a['iiii']"
   ]
  },
  {
   "cell_type": "code",
   "execution_count": 29,
   "id": "a2927281",
   "metadata": {},
   "outputs": [
    {
     "name": "stdout",
     "output_type": "stream",
     "text": [
      "{'The': 6, 'Fulton': 4, 'County': 2, 'Grand': 1, 'Jury': 1, 'said': 7, 'Friday': 1, 'an': 1, 'investigation': 1, 'of': 15, \"Atlanta's\": 1, 'recent': 1, 'primary': 2, 'election': 5, 'produced': 1, '``': 11, 'no': 1, 'evidence': 1, \"''\": 11, 'that': 5, 'any': 1, 'irregularities': 2, 'took': 1, 'place': 1, '.': 10, 'jury': 7, 'further': 1, 'in': 5, 'term-end': 1, 'presentments': 1, 'the': 19, 'City': 3, 'Executive': 1, 'Committee': 1, ',': 9, 'which': 5, 'had': 2, 'over-all': 1, 'charge': 1, 'deserves': 1, 'praise': 1, 'and': 9, 'thanks': 1, 'Atlanta': 2, 'for': 1, 'manner': 1, 'was': 3, 'conducted': 1, 'September-October': 1, 'term': 1, 'been': 1, 'charged': 1, 'by': 2, 'Superior': 1, 'Court': 1, 'Judge': 1, 'Durwood': 1, 'Pye': 1, 'to': 6, 'investigate': 1, 'reports': 2, 'possible': 1, 'hard-fought': 1, 'won': 1, 'Mayor-nominate': 1, 'Ivan': 1, 'Allen': 1, 'Jr.': 1, 'Only': 1, 'a': 3, 'relative': 1, 'handful': 1, 'such': 1, 'received': 1, 'considering': 1, 'widespread': 1, 'interest': 2, 'number': 2, 'voters': 1, 'size': 1, 'this': 2, 'city': 3, 'it': 3, 'did': 1, 'find': 1, 'many': 1, \"Georgia's\": 1, 'registration': 1, 'laws': 2, 'are': 2, 'outmoded': 1, 'or': 1, 'inadequate': 1, 'often': 1, 'ambiguous': 1, 'It': 2, 'recommended': 1, 'legislators': 1, 'act': 1, 'have': 1, 'these': 2, 'studied': 1, 'revised': 1, 'end': 1, 'modernizing': 1, 'improving': 1, 'them': 2, 'grand': 1, 'commented': 1, 'on': 1, 'other': 1, 'topics': 1, 'among': 1, 'purchasing': 1, 'departments': 1, 'well': 1, 'operated': 1, 'follow': 1, 'generally': 1, 'accepted': 1, 'practices': 1, 'inure': 1, 'best': 1, 'both': 1, 'governments': 1, 'Merger': 1, 'proposed': 1, 'However': 1, 'believes': 1, 'two': 1, 'offices': 1, 'should': 1, 'be': 1, 'combined': 1, 'achieve': 1, 'greater': 1, 'efficiency': 1, 'reduce': 1, 'cost': 1, 'administration': 1, 'Purchasing': 1, 'Department': 1, 'is': 1, 'lacking': 1, 'experienced': 1, 'clerical': 1, 'personnel': 2, 'as': 1, 'result': 1, 'policies': 1, 'urged': 1, 'take': 1, 'steps': 1, 'remedy': 1, 'problem': 1, 'Implementation': 1}\n"
     ]
    }
   ],
   "source": [
    "word_count = dict()\n",
    "for word in article:\n",
    "    if word not in word_count.keys():\n",
    "        word_count[word] = 1  # initialisation is required\n",
    "    else:\n",
    "        word_count[word] += 1\n",
    "        \n",
    "print(word_count)"
   ]
  },
  {
   "cell_type": "code",
   "execution_count": 30,
   "id": "bf61f0fd",
   "metadata": {},
   "outputs": [
    {
     "ename": "KeyError",
     "evalue": "'xijfkn'",
     "output_type": "error",
     "traceback": [
      "\u001b[0;31m---------------------------------------------------------------------------\u001b[0m",
      "\u001b[0;31mKeyError\u001b[0m                                  Traceback (most recent call last)",
      "\u001b[0;32m<ipython-input-30-48b6e8dd7246>\u001b[0m in \u001b[0;36m<module>\u001b[0;34m\u001b[0m\n\u001b[1;32m      1\u001b[0m \u001b[0;31m# inexisting key-value\u001b[0m\u001b[0;34m\u001b[0m\u001b[0;34m\u001b[0m\u001b[0;34m\u001b[0m\u001b[0m\n\u001b[0;32m----> 2\u001b[0;31m \u001b[0mword_count\u001b[0m\u001b[0;34m[\u001b[0m\u001b[0;34m'xijfkn'\u001b[0m\u001b[0;34m]\u001b[0m\u001b[0;34m\u001b[0m\u001b[0;34m\u001b[0m\u001b[0m\n\u001b[0m",
      "\u001b[0;31mKeyError\u001b[0m: 'xijfkn'"
     ]
    }
   ],
   "source": [
    "# inexisting key-value\n",
    "word_count['xijfkn']"
   ]
  },
  {
   "cell_type": "markdown",
   "id": "alien-affect",
   "metadata": {},
   "source": [
    "## Exercise 1. Rewrite the following with a default dictionary"
   ]
  },
  {
   "cell_type": "code",
   "execution_count": 13,
   "id": "9485b427",
   "metadata": {},
   "outputs": [
    {
     "name": "stdout",
     "output_type": "stream",
     "text": [
      "{0: [0, 3, 6, 9], 1: [1, 4, 7], 2: [2, 5, 8]}\n"
     ]
    }
   ],
   "source": [
    "my_dict = {}\n",
    "for i in range(10):\n",
    "    if i % 3 in my_dict:\n",
    "        my_dict[i % 3].append(i)\n",
    "    else:\n",
    "        my_dict[i % 3] = [i]  # initialisation\n",
    "print(my_dict)"
   ]
  },
  {
   "cell_type": "code",
   "execution_count": 12,
   "id": "d6d9dad9",
   "metadata": {},
   "outputs": [
    {
     "name": "stdout",
     "output_type": "stream",
     "text": [
      "defaultdict(<class 'list'>, {0: [0, 3, 6, 9], 1: [1, 4, 7], 2: [2, 5, 8]})\n"
     ]
    }
   ],
   "source": [
    "from collections import defaultdict\n",
    "\n",
    "my_dict = defaultdict(list)\n",
    "for i in range(10):\n",
    "    # TODO\n",
    "    my_dict[i % 3].append(i)\n",
    "    \n",
    "print(my_dict)"
   ]
  },
  {
   "cell_type": "markdown",
   "id": "6f1fcd9e",
   "metadata": {},
   "source": [
    "## 3. What is a “bug”? What are some debugging strategies which we can use when we find an error?\n",
    "\n",
    "In computing, a bug is an error in code which causes a program to not run as intended. After finding that there is a bug in our program by running **test cases** (discussed later), strategies to fix bugs include tracing code to find sections relevant to the error encountered and using **diagnostic print statements** in these sections to check the value of variables during execution. **Where values are unexpected or code is not running in the way it is supposed to**, we’ve found where the error is and can write new code to fix the problem.\n",
    "\n",
    "## 4. What are the three types of errors we’ve learned about?\n",
    "\n",
    "The three errors are:\n",
    "\n",
    "#### - (1) Syntax error: where the code won’t run due to incorrect use of symbols in the programming language;\n",
    "i.e., The program cannot be **compiled (?)**.\n",
    "\n",
    "#### - (2) run-time error: where the code runs but a problem is encountered during execution causing the program to crash; and \n",
    "i.e., it can run, but crashes during running.\n",
    "\n",
    "\n",
    "#### - (3) logic error: where the code runs to completion without problem, but the result is not what the developer intended.\n",
    "i.e., it can run, but giving unexpected output.\n",
    "\n",
    "## 5. How can we use testing to find bugs or confirm our code runs properly? What are some strategies we can adopt to write comprehensive test cases for our code?\n",
    "\n",
    "To ensure that code is correct, it is important to run it under a range of scenarios -- **test cases** to ensure that it not only works properly in a specific case, but in all cases. To write test cases, we should think about different possible inputs our code could receive and write test cases to cover as many of them as possible. This does not mean writing a test case for every possible input, rather a test case for each category of input, especially testing any “**corner cases**” which are at the limits of the code’s specification.\n",
    "\n",
    "Some of the major corner cases can be: an empty input, extremely large integer/float, zero integer/float, etc,.\n",
    "\n",
    "\n",
    "\n",
    "## Exercise 2. Find the errors in the following programs, classifying them as (a) syntax, (b) runtime or (c) logic errors. Fix them with a correct line of code."
   ]
  },
  {
   "cell_type": "code",
   "execution_count": 64,
   "id": "025da831",
   "metadata": {},
   "outputs": [],
   "source": [
    "def disemvowel(text):\n",
    "    \"\"\" Returns string `text` with all vowels removed \"\"\"\n",
    "    if not text:\n",
    "        return ''\n",
    "    \n",
    "    vowels = ('a', 'e', 'i', 'o', 'u')\n",
    "    answer = ''\n",
    "    for char in text:\n",
    "        if char.lower() not in vowels:\n",
    "            \n",
    "            answer = answer + char\n",
    "    \n",
    "    print(answer)\n",
    "    #return answer"
   ]
  },
  {
   "cell_type": "code",
   "execution_count": 65,
   "id": "07dc36ba",
   "metadata": {},
   "outputs": [
    {
     "name": "stdout",
     "output_type": "stream",
     "text": [
      "\n",
      "\n",
      "None\n"
     ]
    }
   ],
   "source": [
    "# test cases\n",
    "\n",
    "a = disemvowel('')\n",
    "print(a)\n",
    "\n",
    "a = disemvowel('eeeee') # ppl\n",
    "print(a)"
   ]
  },
  {
   "cell_type": "code",
   "execution_count": 62,
   "id": "8b07d508",
   "metadata": {},
   "outputs": [
    {
     "name": "stdout",
     "output_type": "stream",
     "text": [
      "66.66666666666666% of numbers are greater than 4\n"
     ]
    }
   ],
   "source": [
    "def big_ratio(nums, n):\n",
    "    \"\"\" Calculates and returns the ratio of numbers in list `nums` which are larger than `n` \"\"\" \n",
    "    #n=0\n",
    "    if not nums:\n",
    "        return 0\n",
    "    \n",
    "    greater_n = 0\n",
    "    total = 0\n",
    "    for number in nums:\n",
    "        if number > n:\n",
    "            greater_n += 1\n",
    "        total += 1\n",
    "    return greater_n / total\n",
    "\n",
    "nums = [4, 5, 6]\n",
    "low = 4\n",
    "print(f\"{100*big_ratio(nums, low)}% of numbers are greater than {low}\")"
   ]
  },
  {
   "cell_type": "code",
   "execution_count": 63,
   "id": "60affe1a",
   "metadata": {},
   "outputs": [
    {
     "name": "stdout",
     "output_type": "stream",
     "text": [
      "0% of numbers are greater than 4\n"
     ]
    }
   ],
   "source": [
    "nums = []\n",
    "low = 4\n",
    "print(f\"{100*big_ratio(nums, low)}% of numbers are greater than {low}\")"
   ]
  },
  {
   "cell_type": "markdown",
   "id": "d06ccbff",
   "metadata": {},
   "source": [
    "(a) Syntax Error\n",
    "\n",
    "(b) Runtime Error\n",
    "\n",
    "(c) Logic Error"
   ]
  },
  {
   "cell_type": "markdown",
   "id": "1b7af9c4",
   "metadata": {},
   "source": [
    "### Finish the remaining Exercises"
   ]
  },
  {
   "cell_type": "markdown",
   "id": "f40ded3f",
   "metadata": {},
   "source": [
    "### Exercise 3"
   ]
  },
  {
   "cell_type": "code",
   "execution_count": 68,
   "id": "604cadf7",
   "metadata": {},
   "outputs": [
    {
     "name": "stdout",
     "output_type": "stream",
     "text": [
      "-2 [-2, -5, -8, -9, -2, -3]\n",
      "-8 [-5, -8, -9, -2, -3]\n",
      "-2 [-5, -9, -2, -3]\n",
      "[-5, -9, -3]\n"
     ]
    }
   ],
   "source": [
    "def remove_negative(nums):\n",
    "    for num in nums:\n",
    "        print(num, nums)\n",
    "        if num < 0:\n",
    "            nums.remove(num)\n",
    "            \n",
    "lst = [-2, -5, -8, -9, -2, -3]\n",
    "remove_negative(lst)\n",
    "print(lst)"
   ]
  },
  {
   "cell_type": "code",
   "execution_count": null,
   "id": "52300482",
   "metadata": {},
   "outputs": [],
   "source": []
  }
 ],
 "metadata": {
  "kernelspec": {
   "display_name": "Python 3",
   "language": "python",
   "name": "python3"
  },
  "language_info": {
   "codemirror_mode": {
    "name": "ipython",
    "version": 3
   },
   "file_extension": ".py",
   "mimetype": "text/x-python",
   "name": "python",
   "nbconvert_exporter": "python",
   "pygments_lexer": "ipython3",
   "version": "3.7.7"
  }
 },
 "nbformat": 4,
 "nbformat_minor": 5
}
