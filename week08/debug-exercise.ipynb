{
 "cells": [
  {
   "cell_type": "markdown",
   "id": "50072938",
   "metadata": {},
   "source": [
    "## <p style=\"text-align: center\">COMP10001 Foundations of Computing<br>Semester 1, 2022<br>Tutorial Exercises: Week 8 </p>"
   ]
  },
  {
   "cell_type": "markdown",
   "id": "a6d05471",
   "metadata": {},
   "source": [
    "### 1. Find the errors in the following programs, classifying them as (a) syntax, (b) runtime or (c) logic errors. Fix them with a correct line of code."
   ]
  },
  {
   "cell_type": "code",
   "execution_count": null,
   "id": "cf6a242e",
   "metadata": {},
   "outputs": [],
   "source": [
    "def big-ratio(nums, n):\n",
    "    \"\"\" Calculates and returns the ratio of numbers in list `nums` which are larger than `n` \"\"\"\n",
    "    n=0\n",
    "    greater_n = 0\n",
    "    for number in nums:\n",
    "        if number > n:\n",
    "            greater_n += 1\n",
    "            total += 1\n",
    "    return greater_n / total\n",
    "\n",
    "nums = [4, 5, 6]\n",
    "    low = 4\n",
    "print(f\"{100*big_ratio(nums, low)}% of numbers are greater than {low}\")"
   ]
  },
  {
   "cell_type": "code",
   "execution_count": null,
   "id": "65560cae",
   "metadata": {},
   "outputs": [],
   "source": [
    "# TODO\n",
    "\n"
   ]
  },
  {
   "cell_type": "markdown",
   "id": "15a24cb6",
   "metadata": {},
   "source": [
    "### 2. The function below is supposed to take a list of integers and remove the negative integers from the list, however, it is not working as intended.\n",
    "\n",
    "- Write down three test cases that could be useful for function verification or finding bugs. \n",
    "\n",
    "- Debug the associated code snippet to solve the problem.\n",
    "\n",
    "Write a function that takes a list of integers and removes the negative integers from the list. \n",
    "\n"
   ]
  },
  {
   "cell_type": "code",
   "execution_count": null,
   "id": "8cfe5f97",
   "metadata": {},
   "outputs": [],
   "source": [
    "def remove_negative(nums):\n",
    "    for num in nums:\n",
    "        if num < 0:\n",
    "            nums.remove(num)"
   ]
  },
  {
   "cell_type": "code",
   "execution_count": null,
   "id": "8824e961",
   "metadata": {},
   "outputs": [],
   "source": [
    "# Design your test cases here\n"
   ]
  },
  {
   "cell_type": "markdown",
   "id": "cd4cd3ad",
   "metadata": {},
   "source": [
    "### 3. This question is based on a previous exam question. The code below is intended to validate a data entry with the following three fields:\n",
    "\n",
    "(1) a staff ID, in the form of a **string type** containing a 5-digit number (e.g. `\"00520\"` or `\"19471\"`)\n",
    "\n",
    "(2) a first name, in the form of a non-empty string of alphabetical letters\n",
    "\n",
    "(3) a password, in the form of a string including at least one lower-case letter, one upper-case letter, and one punctuation mark from the following `[',', '.', '!', '?']`\n",
    "\n",
    "The function should return `True` if the data entry contains entirely valid values (according to the above rules) and `False` if any of the fields are invalid."
   ]
  },
  {
   "cell_type": "code",
   "execution_count": 8,
   "id": "667a6a64",
   "metadata": {},
   "outputs": [],
   "source": [
    "STAFFID_LEN = 5\n",
    "def validate(data):\n",
    "    \n",
    "    staffid = data.pop(0)\n",
    "    if not 10**(STAFFID_LEN-1) <= int(staffid) < 10**STAFFID_LEN:\n",
    "        return False\n",
    "    \n",
    "    first_name = data.pop(0)\n",
    "    if not first_name and first_name.isalpha():\n",
    "        return False\n",
    "    \n",
    "    password = data.pop(0)\n",
    "    contains_lower = contains_upper = contains_punct = False\n",
    "    for letter in password:\n",
    "        if letter.islower():\n",
    "            contains_lower = True\n",
    "        elif letter.isupper():\n",
    "            contains_upper = True\n",
    "        elif not letter.strip(',.!? '):\n",
    "            contains_punct = True\n",
    "            \n",
    "    if not contains_lower and contains_upper and contains_punct:\n",
    "        return False\n",
    "    return True"
   ]
  },
  {
   "cell_type": "markdown",
   "id": "c387c326",
   "metadata": {},
   "source": [
    "The provided code is imperfect. Sometimes it misclassifies valid data as invalid and invalid data as valid. Your task is to:\n",
    "\n",
    "- (a) Provide an example of valid data that is correctly classified as such by the provided code (i.e. valid data input where the return value is `True`).\n",
    "\n",
    "- (b) Provide an example of invalid data that is correctly classified as such by the provided code (i.e. invalid data input where the return value is `False`).\n",
    "\n",
    "- (c) Provide an example of invalid data that is incorrectly classified as a valid by the provided code (i.e. valid data input where the return value is erroneously `True`).\n",
    "\n",
    "- (d) Provide an example of valid data that is incorrectly classified as an invalid by the provided code (i.e. invalid data input where the return value is erroneously `False`)."
   ]
  },
  {
   "cell_type": "code",
   "execution_count": null,
   "id": "8b895078",
   "metadata": {},
   "outputs": [],
   "source": [
    "#(a)\n",
    "data = ['12345', 'Alex', 'Ron!']\n",
    "print(validate(data))\n",
    "\n",
    "#(b)\n",
    "data =   # finish this line\n",
    "print(validate(data))\n",
    "\n",
    "#(c)\n",
    "data =   # finish this line\n",
    "print(validate(data))\n",
    "\n",
    "#(d)\n",
    "data =   # finish this line\n",
    "print(validate(data))"
   ]
  }
 ],
 "metadata": {
  "kernelspec": {
   "display_name": "Python 3",
   "language": "python",
   "name": "python3"
  },
  "language_info": {
   "codemirror_mode": {
    "name": "ipython",
    "version": 3
   },
   "file_extension": ".py",
   "mimetype": "text/x-python",
   "name": "python",
   "nbconvert_exporter": "python",
   "pygments_lexer": "ipython3",
   "version": "3.7.7"
  }
 },
 "nbformat": 4,
 "nbformat_minor": 5
}
