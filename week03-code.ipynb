{
 "cells": [
  {
   "cell_type": "markdown",
   "metadata": {},
   "source": [
    "## <p style=\"text-align: center;\">COMP10001 Foundations of Computing<br>Semester 2, 2022<br>Tutorial Questions: Week 3</p>\n",
    "### <p style=\"text-align: center;\">Tutor: Jiyu Chen  ~ *Freddie*</p>\n",
    "\n",
    "\n",
    "```Welcome to the second tutorial. From this week onwards we will be covering a lot of content from lectures and the Grok Worksheets. Attempt the Discussion Questions and Exercises in your tutorial. You may not get time for the Problems in class, but they’re good for practice and you can find the solutions on the LMS.\n",
    "```"
   ]
  },
  {
   "cell_type": "markdown",
   "metadata": {},
   "source": [
    "### Q0. Basic coding habits\n",
    "\n",
    "1. Always close the opening bracket/quote with its closing pair\n",
    "2. Make interpretable variable name. Do not use capital initial to name your variable\n",
    "3. Do not make redundant data type conversion"
   ]
  },
  {
   "cell_type": "markdown",
   "metadata": {},
   "source": [
    "### Q1. What is a data type? Can the data type of an object change?\n",
    "\n",
    "<details><summary></summary>\n",
    "A data type is a classification of data which tells python how to store and process it and defines what we can do with it. Data types are permanent when you create the object, BUT you can convert a value into another type with the functions in the table below.\n",
    "</details>\n",
    "\n",
    "### <span style=\"color:red\">Trick: use built-in function `type()` to inspect data type</span>"
   ]
  },
  {
   "cell_type": "code",
   "execution_count": 7,
   "metadata": {},
   "outputs": [
    {
     "name": "stdout",
     "output_type": "stream",
     "text": [
      "Hello <class 'str'>\n",
      "123 <class 'int'>\n",
      "3.1415 <class 'float'>\n",
      "True <class 'bool'>\n",
      "sum() <class 'builtin_function_or_method'>\n",
      "myfunc <class 'function'>\n"
     ]
    }
   ],
   "source": [
    "print(\"Hello\",type(\"Hello\"))   \n",
    "\n",
    "print(123,type(123))  \n",
    "\n",
    "print(3.1415,type(3.1415))  \n",
    "\n",
    "print(True,type(True)) \n",
    "\n",
    "# add-on. U can also use type() to inspect a builtin function\n",
    "print(\"sum()\",type(sum))\n",
    "\n",
    "def my_func():\n",
    "    return\n",
    "\n",
    "print(\"myfunc\",type(my_func))"
   ]
  },
  {
   "cell_type": "markdown",
   "metadata": {},
   "source": [
    "### Q2. As a class, fill in the below table with the data types we have studied so far. What is the difference between the second and third type, both being numerical?\n",
    "\n",
    "| Type | Example | What does it store? | What can we do with it (functions, operations ...)? | How do we convert to it? |\n",
    "|------|---------|---------------------|-----------------------------------------------------|--------------------------|\n",
    "|      | \"Hello\" |                     |                                                     |                          |\n",
    "|      | 123     |                     |                                                     |                          |\n",
    "|      | 3.1415  |                     |                                                     |                          |\n",
    "|      | True    |                     |                                                     |                          |\n"
   ]
  },
  {
   "cell_type": "markdown",
   "metadata": {},
   "source": [
    "# Now try Exercises 1 & 2\n",
    "\n",
    "### 1. Look at the following form and decide which data types (str, int, float, or bool) should be used to store each field.\n",
    "\n",
    "- Name: <details><summary></summary><p>`str`</p></details>\n",
    "- Custormer ID: <details><summary></summary><p>`int or str if ID is not numeric`</p></details>\n",
    "- Address: <details><summary></summary><p>`str`</p></details>\n",
    "- Postcode: <details><summary></summary><p>`int or str`</p></details>\n",
    "- Do you own or rent? <details><summary></summary><p>`str` or `bool`</p></details>\n",
    "- Length of bench top: <details><summary></summary><p>`float`</p></details>\n",
    "- Width of bench top: <details><summary></summary><p>`float`</p></details>\n",
    "- Are you interested in further offers? <details><summary></summary><p>`bool`</p></details>\n"
   ]
  },
  {
   "cell_type": "markdown",
   "metadata": {},
   "source": [
    "### 2. Evaluate the following:\n",
    "```\n",
    "(a) str(3 + 4) + \"cakes\" = \n",
    "\n",
    "(b) int(5 / 2) =  ps: how to use rounding?\n",
    "\n",
    "(c) float(\"357\"+ \".\"+ \"23\") = \n",
    "\n",
    "(d) bool(\"anything\") = \n",
    "```"
   ]
  },
  {
   "cell_type": "markdown",
   "metadata": {},
   "source": [
    "### <span style=\"color:red\">Take a note: Two steps to consider when converting data type</span>\n",
    "#### 1. Is it convertible?\n",
    "\n",
    "A string of characters cannot be converted to integers, but a string of digits can be converted to integers. e.g.,\n",
    "\n",
    "`\"abc\"` -cannot-> `int`\n",
    "\n",
    "`\"123\"` -> `123`\n",
    "\n",
    "#### 2. What exact value and the data type does it convert to?\n",
    "\n",
    "\n",
    "Directly converting a float number won't follow the mathmatical rounding rule, e.g.,\n",
    "\n",
    "`int(3.9)` -> `3` instead of `4`\n",
    "\n",
    "`round(3.9)` -> `4`\n",
    "\n",
    "`str(123)` -> `\"123\"`\n",
    "\n"
   ]
  },
  {
   "cell_type": "code",
   "execution_count": null,
   "metadata": {},
   "outputs": [],
   "source": [
    "# TODO\n",
    "print(int(3.9))\n",
    "print(round(3.9))"
   ]
  },
  {
   "cell_type": "markdown",
   "metadata": {},
   "source": [
    "### <span style=\"color:red\">Take a note </span>\n",
    "\n",
    "Any value, other than the numeric `0` or empty string `\"\"`, will be converted as `True` by `bool()`\n",
    "\n",
    "`bool(\" \")` -> `True`\n",
    "\n",
    "`bool(\"\")` -> `False`\n",
    "\n",
    "`bool(0)` -> `False`\n",
    "\n",
    "`bool(\"0\")` -> `True`\n"
   ]
  },
  {
   "cell_type": "code",
   "execution_count": 6,
   "metadata": {},
   "outputs": [
    {
     "data": {
      "text/plain": [
       "True"
      ]
     },
     "execution_count": 6,
     "metadata": {},
     "output_type": "execute_result"
    }
   ],
   "source": [
    "#TODO\n",
    "\"123\""
   ]
  },
  {
   "cell_type": "markdown",
   "metadata": {},
   "source": [
    "### Q3. What is an “operator”? Which operators have we learned so far and what do they do?\n",
    "\n",
    "<details><summary>Show answer:</summary>\n",
    "    <p>\n",
    "        An operator is a symbol used to calculate some result based on one or more operands. We’ve used `+` (addition), `-` (subtraction), `*` (multiplication), `/` (division) as well as `%` (modulo: remainder when first value divided by second), `//` (integer division: converts result into integer - rounds down) and `**` (exponential). Also `=` for assignment. Note that order of operations applies in Python.\n",
    "    </p>\n",
    "</details>\n",
    "\n",
    "### <span style=\"color:red\">Take a note: When looking at an expression with operators, u need to keep in mind with following aspects</span>\n",
    "#### 1) What's the function of this operator?\n",
    "\n",
    "#### 2) Will it manipulate the data types?\n",
    "\n",
    "The output of `4/2` become a `float [2.0]` instead of `int [2]`\n",
    "The output of `4//2.0` is still a `float [2.0]`\n",
    "\n",
    "#### 3) What type of data is been applied with the operator?\n",
    "\n",
    "`-` subtraction cannot be applied to `str`\n",
    "\n",
    "#### 4) If two different types of data are operated, what is the type of operated data?\n",
    "The output of `4//2.0` is still a `float [2.0]`"
   ]
  },
  {
   "cell_type": "code",
   "execution_count": null,
   "metadata": {},
   "outputs": [],
   "source": [
    "\"\"\"modulo\"\"\" \n",
    "#In computing, the modulo operation returns the remainder or signed remainder of a division, \n",
    "#after one number is divided by another (called the modulus of the operation).\n",
    "\n",
    "# For example,\n",
    "#\"5 mod 2\" would evaluate to 1, because 5 divided by 2 has a quotient of 2 and a remainder of 1\n",
    "print(5%2) # get 1\n",
    "print(2%5)  # get 2"
   ]
  },
  {
   "cell_type": "markdown",
   "metadata": {},
   "source": [
    "### Q4. What is `operator overloading`. What is the difference between using + with numerical types and strings/sequences?\n",
    "\n",
    "<details><summary>Show answer:</summary>\n",
    "    <p>\n",
    "        Overloading is where the same operator works in slightly different ways for different numbers or types of operands. In this case, when used with numerical types, + is arithmetic addition and when used with strings/ sequences it is string concatenation, which means joining together.\n",
    "    </p>\n",
    "</details>\n",
    "\n",
    "e.g., `1 + 2` vs `\"1\"+\"2\"`"
   ]
  },
  {
   "cell_type": "code",
   "execution_count": 25,
   "metadata": {},
   "outputs": [
    {
     "name": "stdout",
     "output_type": "stream",
     "text": [
      "3\n",
      "12\n"
     ]
    }
   ],
   "source": [
    "# TODOd\n",
    "print(1+2)  # addition\n",
    "print(\"1\"+\"2\")  # string concatenation"
   ]
  },
  {
   "cell_type": "markdown",
   "metadata": {},
   "source": [
    "### Q5. What is a \"variable\"? How do we use variables and why are they helpful?\n",
    "\n",
    "A variable is a place in the computer’s internal memory where a value can be stored. A **name** - or identifier - is used to access a variable. Created by **declaration**, their value is controlled with the assignment operator `=`. Variables are useful because we can refer back to the same value more easily, using a name which we can associate with its meaning. They are easy to update and use in calculations.\n",
    "\n",
    "#### <span style=\"color:red\">Take a note: Distinguish btw `=` and `==`</span>\n"
   ]
  },
  {
   "cell_type": "code",
   "execution_count": 27,
   "metadata": {},
   "outputs": [],
   "source": [
    "# Creation of an variable. --- By declaration\n",
    "a = 1 # = here is an assignment operator, not the equal in math\n",
    "\n",
    "# Coding habbits: prevent using beginning capital letter to name your variable, being meaningful\n",
    "email_address = \"xxx@student.unimelb.edu.au\"\n",
    "emailAddress = \"xxx@student.unimelb.edu.au\"   # hump style (very java :D)\n"
   ]
  },
  {
   "cell_type": "markdown",
   "metadata": {},
   "source": [
    "### Jump to Q7. Literals\n",
    "\n",
    "### Q7. Literals: a value typed directly into a program, rather than one referenced by a variable.\n",
    "\n",
    "The literals already have certain meaning, function, purposes.\n",
    "E.g., `list`, `str`, `+`, `input`, `1`"
   ]
  },
  {
   "cell_type": "code",
   "execution_count": null,
   "metadata": {},
   "outputs": [],
   "source": [
    "\"\"\"String literals\"\"\"\n",
    "s_1 = \"Turing\"\n",
    "s_2 = 'Machine'\n",
    "print(s_1, s_2)\n",
    "\n",
    "\n",
    "\"\"\"Numeric literals\"\"\"\n",
    "x = 0b10100  # Binary Literals  \n",
    "y = 100  # Decimal Literal   \n",
    "z = 0o215  # Octal Literal\n",
    "u = 0x12d  # Hexadecimal Literal  \n",
    "  \n",
    "# Float Literal  \n",
    "float_1 = 100.5   \n",
    "float_2 = 1.5e2   \n",
    "  \n",
    "print(x, y, z, u)  \n",
    "print(float_1, float_2)\n",
    "\n",
    "\"\"\"Boolean literals\"\"\"\n",
    "x = (1 == True)  \n",
    "y = (2 == False)  \n",
    "z = (3 == True)  \n",
    "a = True + 10  \n",
    "b = False + 10  \n",
    "  \n",
    "print(\"x is\", x)  \n",
    "print(\"y is\", y)  \n",
    "print(\"z is\", z)  \n",
    "print(\"a:\", a)  \n",
    "print(\"b:\", b)"
   ]
  },
  {
   "cell_type": "markdown",
   "metadata": {},
   "source": [
    "#### <span style=\"color:red\">Take a note: <br><br> Do not name a variable using literal<br></span>"
   ]
  },
  {
   "cell_type": "markdown",
   "metadata": {},
   "source": [
    "### Sample Exam Q: Find error in below codes\n",
    "\n",
    "```\n",
    "l = 12\n",
    "a = 12\n",
    "if l == a:\n",
    "    print(\"Bingo\")\n",
    "```"
   ]
  },
  {
   "cell_type": "markdown",
   "metadata": {},
   "source": [
    "## Now try Exercise 3 & 4 \n",
    "\n",
    "### 3) Evaluate the following expressions\n",
    "```\n",
    "(a) 1 / 1 = \n",
    "\n",
    "(b) 2 + 2 = \n",
    "\n",
    "(c) 2 + 2.0 = \n",
    "\n",
    "(d) 1 / 2 = \n",
    "\n",
    "(e) 1 // 2 = \n",
    "\n",
    "(f) 1 % 2 = \n",
    "\n",
    "(g) 1 + 2 / 2.0 = \n",
    "\n",
    "(h) (1+2) / 2.0 = \n",
    "```"
   ]
  },
  {
   "cell_type": "markdown",
   "metadata": {},
   "source": [
    "## 4) What is the output of the following? Why?\n",
    "```\n",
    "(a) 123 + 123\n",
    "\n",
    "(b) \"123\" + \"123\"\n",
    "\n",
    "(c) \"123\" + 123\n",
    "\n",
    "(d) 3 * 4\n",
    "\n",
    "(e) \"3\" * 4\n",
    "\n",
    "(f) \"3\" * \"4\"\n",
    "```"
   ]
  },
  {
   "cell_type": "markdown",
   "metadata": {},
   "source": [
    "### Sample Exam Q:\n",
    "\n",
    "Please writing a single line of expression that will give output value: \"1.0\"\n",
    "\n",
    "Required operations:\n",
    "\n",
    "1) data type conversion\n",
    "\n",
    "2) division"
   ]
  },
  {
   "cell_type": "code",
   "execution_count": 19,
   "metadata": {},
   "outputs": [
    {
     "data": {
      "text/plain": [
       "'1.0'"
      ]
     },
     "execution_count": 19,
     "metadata": {},
     "output_type": "execute_result"
    }
   ],
   "source": [
    "#TODO\n"
   ]
  },
  {
   "cell_type": "markdown",
   "metadata": {},
   "source": [
    "### Back to Q6\n",
    "\n",
    "### Q6. How does the `input()` function work?\n",
    "\n",
    "\n",
    "Takes a string prompt as argument. When run, displays that prompt to the user and lets them enter some text. That text becomes\n",
    "the return value of the `input()` function, as a `string`.\n",
    "\n",
    "\n",
    "### <span style=\"color:blue\">Knowledge: How to understand/learn/read a new function</span>\n",
    "\n",
    "\n",
    "1) What is the input(argument) of the function?\n",
    "\n",
    "2) What is the output of this function?\n",
    "\n",
    "3) What does this function do?\n",
    "\n",
    "\n"
   ]
  },
  {
   "cell_type": "code",
   "execution_count": null,
   "metadata": {},
   "outputs": [],
   "source": [
    "help(sum)"
   ]
  },
  {
   "cell_type": "code",
   "execution_count": null,
   "metadata": {},
   "outputs": [],
   "source": [
    "a = input()\n",
    "print(type(a)) \n",
    "\n",
    "a = int(input(\"type a number\"))\n",
    "print(type(a))"
   ]
  },
  {
   "cell_type": "markdown",
   "metadata": {},
   "source": [
    "### Q8. Why does `0.1 + 0.1 + 0.1 + 0.1 + 0.1 + 0.1 + 0.1 + 0.1 + 0.1 + 0.1` equal `0.9999999999999999` and not `1.0`?\n",
    "\n",
    "<details><summary>Show answer:</summary>\n",
    "    <p>\n",
    "        Floating point numbers are approximations and can store only a finite amount of precision. Sometimes the way the computer stores decimal values can lead to inaccurate results on calculation.\n",
    "\n",
    "**Floating Point Arithmetic: Issues and Limitation**\n",
    "https://docs.python.org/3/tutorial/floatingpoint.html#tut-fp-issues\n",
    "    </p>\n",
    "</details>"
   ]
  },
  {
   "cell_type": "code",
   "execution_count": 23,
   "metadata": {},
   "outputs": [
    {
     "name": "stdout",
     "output_type": "stream",
     "text": [
      "[0.1, 0.1, 0.1, 0.1, 0.1, 0.1, 0.1, 0.1, 0.1, 0.1]\n",
      "0.9999999999999999\n"
     ]
    }
   ],
   "source": [
    "# TODO\n",
    "\n",
    "i = [float(0.1)]*10  # operator overloading here, * as repetition\n",
    "print(i)\n",
    "print(sum(i))"
   ]
  },
  {
   "cell_type": "markdown",
   "metadata": {},
   "source": [
    "### Problems\n",
    "\n",
    "#### You can write code below and compare with solution (release next week)"
   ]
  },
  {
   "cell_type": "markdown",
   "metadata": {},
   "source": [
    "#### 1. Write a program which asks the user for their age and calculates the year in which they were born. There will be two possibilities since you haven’t taken their birth date, so print both.\n",
    "\n",
    "#### 2. Write a program which asks the user for two integers and multiplies them together, printing the equation in the form 1 * 2 = 2 for the case of 1 and 2.\n",
    "\n",
    "#### 3. Write a program which asks the user for a temperature in degrees Fahrenheit and prints the corresponding value in Celsius. The conversion formula is below:\n",
    "\n",
    "$$ C = \\frac{F-32}{1.8} $$"
   ]
  },
  {
   "cell_type": "code",
   "execution_count": null,
   "metadata": {},
   "outputs": [],
   "source": [
    "# 1."
   ]
  },
  {
   "cell_type": "code",
   "execution_count": null,
   "metadata": {},
   "outputs": [],
   "source": [
    "# 2."
   ]
  },
  {
   "cell_type": "code",
   "execution_count": null,
   "metadata": {},
   "outputs": [],
   "source": [
    "# 3.\n"
   ]
  }
 ],
 "metadata": {
  "kernelspec": {
   "display_name": "Python 3",
   "language": "python",
   "name": "python3"
  },
  "language_info": {
   "codemirror_mode": {
    "name": "ipython",
    "version": 3
   },
   "file_extension": ".py",
   "mimetype": "text/x-python",
   "name": "python",
   "nbconvert_exporter": "python",
   "pygments_lexer": "ipython3",
   "version": "3.7.7"
  }
 },
 "nbformat": 4,
 "nbformat_minor": 4
}
