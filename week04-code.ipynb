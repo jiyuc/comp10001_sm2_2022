{
 "cells": [
  {
   "cell_type": "markdown",
   "metadata": {},
   "source": [
    "## <p style=\"text-align: center;\">COMP10001 Foundations of Computing<br>Semester 2, 2022<br>Tutorial Questions: Week 4</p>\n",
    "### <p style=\"text-align: center;\">Tutor: Jiyu Chen(jiyuchen@unimelb.edu.au)</p>"
   ]
  },
  {
   "cell_type": "markdown",
   "metadata": {},
   "source": [
    "### Q1 What is “Boolean”? What values does it store? Can other types be converted to it?\n",
    "\n",
    "Boolean is a **data type** which stores a truth value: **either True or False**. Any other type can be converted to it: for numbers, zero converts to False and any non-zero number converts to True; and for strings and lists an empty sequence converts to False and any non-empty sequence converts to True."
   ]
  },
  {
   "cell_type": "markdown",
   "metadata": {},
   "source": [
    "```\n",
    ":output: True/False\n",
    "\n",
    "0 vs \"0\"\n",
    "\n",
    "\"\" vs \" \"\n",
    "\n",
    "[] vs [\"\"]\n",
    "```"
   ]
  },
  {
   "cell_type": "code",
   "execution_count": 3,
   "metadata": {},
   "outputs": [],
   "source": [
    "#todo"
   ]
  },
  {
   "attachments": {
    "01.png": {
     "image/png": "[encoded data removed]"
    }
   },
   "cell_type": "markdown",
   "metadata": {},
   "source": [
    "### Q2 For each of the following, identify whether it is: \n",
    "- (a) a Boolean value;\n",
    "- (b) a relational operator; \n",
    "- (c) a logical operator.\n",
    "\n",
    "![01.png](attachment:01.png)\n",
    "\n",
    "\n",
    "**1. Relational Operator**\n",
    "\n",
    "Compare **two values** to produce a boolean result. They include less than (<), greater than (>), less than or equal to (<=), greater than or equal to (>=), equal (==) and not equal (!=) The in operator is also a kind of relational operator. e.g.:\n",
    "\n",
    "`3 < 5`\n",
    "\n",
    "`[1,2,3] != None`\n",
    "\n",
    "**2. Logical Operator**\n",
    "\n",
    "Combine Boolean values to return a single Boolean value. They are *and*, *or* and *not*.\n",
    "Order of precedence is Relational operators then not, and, and finally or. Brackets can clarify order of operations and you are encouraged to use them. e.g.:\n",
    "\n",
    "`if a >= 1 and a <= 5`\n",
    "\n",
    "`if a == 1 or a == 2`\n",
    "\n",
    "`if x[0] not in 'aeiou'`"
   ]
  },
  {
   "cell_type": "markdown",
   "metadata": {},
   "source": [
    "### Q3. How do we use an if statement? What are the variants? How do we know what is contained inside it and what is after?\n",
    "\n",
    "An **if statement** is of the form `if <condition>`: where condition can be formed of **relational** and **logical operators**, or anything else you like which can be converted to a **boolean value**. If the condition expression evaluates to True, the code “inside” (indented after) the if statement is run. If not, it is skipped. Variants include elif and else statements following if, which catch further conditions if the first conditional statement is not fulfilled. Indentation tells us what code belongs inside an if statement and what code follows it. e.g.:\n",
    "\n",
    "`\n",
    "x = 0\n",
    "if x:\n",
    "    print('if statement executed')\n",
    "else:\n",
    "    print('else statement executed')\n",
    "`\n"
   ]
  },
  {
   "cell_type": "code",
   "execution_count": 16,
   "metadata": {},
   "outputs": [
    {
     "name": "stdout",
     "output_type": "stream",
     "text": [
      "else statement executed\n"
     ]
    }
   ],
   "source": [
    "x = 0\n",
    "y = 1\n",
    "if x != y and x == y: # True and False -> False\n",
    "    print('if statement executed')\n",
    "else:\n",
    "    print('else statement executed')"
   ]
  },
  {
   "cell_type": "markdown",
   "metadata": {},
   "source": [
    "#### Note: When writing `if <>` statement, you do NOT have to explicitly convert the expression with `bool()`\n",
    "\n",
    "```\n",
    "var = 0\n",
    "if bool(var):  # do NOT use bool() for conversion\n",
    "    print('print true')\n",
    "else:\n",
    "    print('print false')\n",
    "\n",
    "```"
   ]
  },
  {
   "cell_type": "code",
   "execution_count": 13,
   "metadata": {},
   "outputs": [
    {
     "name": "stdout",
     "output_type": "stream",
     "text": [
      "print false\n"
     ]
    }
   ],
   "source": [
    "var = 0\n",
    "if var:\n",
    "    print('print true')\n",
    "else:\n",
    "    print('print false')"
   ]
  },
  {
   "cell_type": "markdown",
   "metadata": {},
   "source": [
    "### Exercise 1. Evaluate the following truth expression\n",
    "\n",
    "```\n",
    "True or False\n",
    "\n",
    "True and False\n",
    "\n",
    "False and not False or True\n",
    "\n",
    "False and (not False or True)\n",
    "```\n",
    "\n",
    "\n",
    "\n",
    "### Exercise 2. For each of the following if statements, give an example of a value for `var` which will trigger it and one which will not.\n",
    "\n",
    "```\n",
    "if 10 > var >= 5:\n",
    "\n",
    "if var[0] == \"A\"and var[-1] == \"e\": \n",
    "\n",
    "if var in (\"VIC\", \"NSW\", \"ACT\"):\n",
    "\n",
    "if var:\n",
    "\n",
    "```\n",
    "\n",
    "\n",
    "### Exercise 3.  What’s wrong with this code? How can you fix it? \n",
    "\n",
    "```\n",
    "letter = input(\"Enter a letter: \")\n",
    "if letter == 'a' or 'e' or 'i' or 'o' or 'u':\n",
    "    print(\"vowel\")\n",
    "else:\n",
    "    print(\"consonant\")\n",
    "```\n",
    "\n",
    "### Exercise 4. What’s wrong with this code? How can you fix it?\n",
    "\n",
    "```\n",
    "eggs == 3\n",
    "if eggs = 5:\n",
    "    print(\"spam\")\n",
    "else:\n",
    "    print(\"not spam\")\n",
    "    \n",
    "```"
   ]
  },
  {
   "cell_type": "markdown",
   "metadata": {},
   "source": [
    "### Q4. What is a “Sequence”? What sequences have we seen so far? What operators can we use with sequences?\n",
    "\n",
    "A sequence is a data type which allows us to store a series of objects in a particular order. Strings store sequences of characters while lists and tuples store sequences of any object. We can use the `*` operator to create copies of the sequence and concatenate them. We can use the `+` operator to concatenate sequences together. (**operator overloading**)\n",
    "\n",
    "`\n",
    "a_tuple = (1,'2',True) # a tuple cannot be changed once it is defined\n",
    "a_list = [1,2,3]  # a list can be modified\n",
    "a_string = \"abc\"\n",
    "`\n",
    "a_tuple"
   ]
  },
  {
   "cell_type": "code",
   "execution_count": null,
   "metadata": {},
   "outputs": [],
   "source": [
    "a_tuple = (1,'2',True)\n",
    "a_tuple[0] = 2"
   ]
  },
  {
   "cell_type": "code",
   "execution_count": 10,
   "metadata": {},
   "outputs": [
    {
     "name": "stdout",
     "output_type": "stream",
     "text": [
      "[2, '2', True]\n"
     ]
    }
   ],
   "source": [
    "a_list = [1,'2',True]\n",
    "a_list[0] = 2\n",
    "print(a_list)"
   ]
  },
  {
   "cell_type": "code",
   "execution_count": 28,
   "metadata": {},
   "outputs": [
    {
     "data": {
      "text/plain": [
       "(1, '2', True, 1, '2', True, 1, '2', True)"
      ]
     },
     "execution_count": 28,
     "metadata": {},
     "output_type": "execute_result"
    }
   ],
   "source": [
    "(1,'2',True) * 3  # operator overloading"
   ]
  },
  {
   "cell_type": "markdown",
   "metadata": {},
   "source": [
    "### Q5. What is indexing? How can you do it?\n",
    "\n",
    "Indexing means accessing the item stored in a particular (**integer**) position in a sequence. You index using **square brackets** containing the index `[i]` at the end of the variable name or object literal. You can index with positive integers where 0 corresponds to the first item or negative integers where -1 corresponds to the last item.\n",
    "\n",
    "Take a list of integers for example\n",
    "\n",
    "head ->`['a','b','c','d','e','f','g','h','i','j']`<-tail\n",
    "\n",
    "         0   1   2   3   4   5   6   7   8   9\n",
    "\n",
    "         ^\n",
    "       index == 0\n",
    "                                             ^\n",
    "                                           index == 9 or index == -1\n",
    "\n"
   ]
  },
  {
   "cell_type": "code",
   "execution_count": 13,
   "metadata": {},
   "outputs": [
    {
     "name": "stdout",
     "output_type": "stream",
     "text": [
      "first item: a\n",
      "last item: j\n"
     ]
    }
   ],
   "source": [
    "sequence = ['a','b','c','d','e','f','g','h','i','j']\n",
    "\n",
    "# access the first item in the sequence\n",
    "print(\"first item:\",sequence[0])\n",
    "\n",
    "# access the last item in the sequence\n",
    "print(\"last item:\",sequence[9]) #or print(sequence[9])\n"
   ]
  },
  {
   "cell_type": "markdown",
   "metadata": {},
   "source": [
    "### Q6. What is slicing? How can you do it?\n",
    "Slicing is like taking an index but rather than only one item, a slice will give you a subsection of the sequence consisting typically of more than one item (though you can have an empty slice). Slicing works with two indices `[i:j]` and takes items from the first to one before the second. \n",
    "\n",
    "A slice can take three integers: start, end and step `[i:j:k]`. The step integer controls the slice step size; Whether every character is included in the slice (`k=1`), every second character (`k=2`), and so on. \n",
    "\n",
    "A negative step makes the slice go backwards.\n",
    "\n",
    "**The end index is not inclusive!**\n",
    "\n",
    "\n",
    "\n",
    "` “Talk is cheap, show me the code -- by Linus Torvalds (father of Linux kernel) `\n",
    "\n",
    "head ->`['a','b','c','d','e','f','g','h','i','j']`<-tail\n",
    "\n",
    "         0   1   2   3   4   5   6   7   8   9"
   ]
  },
  {
   "cell_type": "code",
   "execution_count": 15,
   "metadata": {},
   "outputs": [
    {
     "name": "stdout",
     "output_type": "stream",
     "text": [
      "['a', 'b', 'c']\n",
      "['b', 'c', 'd']\n",
      "['a', 'c', 'e']\n",
      "['e', 'c', 'a']\n",
      "['j', 'i', 'h', 'g', 'f', 'e', 'd', 'c', 'b', 'a']\n"
     ]
    }
   ],
   "source": [
    "#1. access['a','b','c']\n",
    "print(sequence[:3]) \n",
    "\n",
    "#2. access ['b','c','d']\n",
    "print(sequence[1:4])\n",
    "\n",
    "#3. access ['a','c','e']\n",
    "print(sequence[0:5:2])\n",
    "\n",
    "#4. access ['e','c','a']\n",
    "print(sequence[4::-2])\n",
    "\n",
    "#5. How to reverse a list using sequence slicing\n",
    "print(sequence[::-1])"
   ]
  },
  {
   "cell_type": "markdown",
   "metadata": {},
   "source": [
    "### Exercise 5. Evaluate the following given the assignment `s = \"python\"`\n",
    "\n",
    "```\n",
    "s[1]\n",
    "\n",
    "s[-1]\n",
    "\n",
    "s[1:3] + s[3:5]\n",
    "\n",
    "s[10]\n",
    "\n",
    "s[10:]\n",
    "\n",
    "s[-4:-2]\n",
    "\n",
    "s[:-4]\n",
    "\n",
    "s[::2]\n",
    "\n",
    "s[::-1]\n",
    "\n",
    "```"
   ]
  },
  {
   "cell_type": "markdown",
   "metadata": {},
   "source": [
    "### Q7. What is a “function”? How do we call (use) one? How do we define one ourselves?\n",
    "\n",
    "A function is a block of reusable code which is defined once and can be reused wherever you would like in a program. A function is called by writing its name and then a pair of brackets. Depending on the function, you can list arguments inside the brackets, separated by commas. To define a function, we use the def keyword followed by the function name, parameter(s) in brackets, a colon and then the function body, indented.\n",
    "\n",
    "Recall last week's introduction to input() function. The key of the function are it's **input(argument)** and **output**.\n",
    "\n",
    "Now, we will add **edge case** as the third key aspects for a function"
   ]
  },
  {
   "cell_type": "code",
   "execution_count": 22,
   "metadata": {},
   "outputs": [
    {
     "name": "stdout",
     "output_type": "stream",
     "text": [
      "0.5\n",
      "invalid input\n",
      "invalid input\n"
     ]
    }
   ],
   "source": [
    "def cal_division(a,b):\n",
    "    # edge case_1\n",
    "    if not b:\n",
    "        print(\"invalid input\") \n",
    "        return\n",
    "    \n",
    "    # edge case_2\n",
    "    if type(a) == str or type(b) == str:\n",
    "        print(\"invalid input data type!\")\n",
    "        return\n",
    "    \n",
    "    result = a/b\n",
    "    print(result)\n",
    "    return result\n",
    "\n",
    "cal_division(1,2)\n",
    "cal_division(1,0)\n",
    "cal_division(1,\"\")"
   ]
  },
  {
   "cell_type": "markdown",
   "metadata": {},
   "source": [
    "### Q8. What does it mean to “return” a value from a function and why would we want to? Does a function always need a return value?\n",
    "\n",
    "An interface, like you are playing Lego!\n",
    "\n",
    "The return of a function is it's **output**\n",
    "\n",
    "Returning a value from a function makes it available to the line of code which called the function, so that it can be, for example, **assigned to another variable**. This return value could be the result of a calculation or a status message or something else. A function doesn’t need to have a return value: it could just perform an operation such as print(). You return with the return keyword, followed by the value you want to pass. At this point, the function execution terminates.\n",
    "\n",
    "Case: \n",
    "i want to calculate the addition of two integers, then divide summed results by two"
   ]
  },
  {
   "cell_type": "code",
   "execution_count": null,
   "metadata": {},
   "outputs": [],
   "source": [
    "result = cal_division(1,2)\n",
    "print(result)"
   ]
  },
  {
   "cell_type": "markdown",
   "metadata": {},
   "source": [
    "### Q9. Why should we use functions? Could we live without functions?\n",
    "\n",
    "* Casual way of answer\n",
    "\n",
    "Functions **reduce code duplication** by allowing us to run the same block of code multiple times. This saves our code from becoming long and repetitive, and makes it easier to edit in the future. It also allows code we write to be used elsewhere, creating more modular code which we can use in more places. We could theoretically live without functions, but code would be very messy and error-prone without them.\n",
    "\n",
    "* Technical way of answer\n",
    "\n",
    "Making the code **extensible** is important.\n",
    "Recommend you to read some wikipedia introduction on **programming design patterns**"
   ]
  },
  {
   "cell_type": "markdown",
   "metadata": {},
   "source": [
    "### Q10. Why are brackets important when calling a function? Are they needed even if it takes no arguments?\n",
    "\n",
    "Brackets are the difference between a reference to the name of the function and an actual call of the function. Even if there are no arguments, brackets are still needed to call the function (they will simply be empty). **Inputs** are passed to a function using a bracket. This is called the argument of a function.\n",
    "\n",
    "Recall when we calling the `input()` function, the `()` is definitely needed even there is no argument\n",
    "\n",
    "#### Summary\n",
    "1. Input/Argument: call a function using `()`\n",
    "2. Output: distinguish between `print()` and `return`\n",
    "3. edge cases: in case someone want to jeopardise your code\n",
    "4. Reduce code **duplication** and make the code **extensible**"
   ]
  },
  {
   "cell_type": "markdown",
   "metadata": {},
   "source": [
    "### Excercise 6. What’s wrong with this code? How can you fix it?"
   ]
  },
  {
   "cell_type": "code",
   "execution_count": 25,
   "metadata": {},
   "outputs": [
    {
     "name": "stdout",
     "output_type": "stream",
     "text": [
      "Enter the second number: 2\n",
      "6\n",
      "The result is: None\n"
     ]
    }
   ],
   "source": [
    "def calc(n1, n2):\n",
    "    answer = n1 + (n1 * n2)\n",
    "    print(answer)\n",
    "    \n",
    "num = int(input(\"Enter the second number: \"))\n",
    "result = calc(2, num)\n",
    "print(\"The result is:\", result)"
   ]
  },
  {
   "cell_type": "markdown",
   "metadata": {},
   "source": [
    "### Problems and Q&A Session\n",
    "\n",
    "#### 1. Write a function which takes a string as a single argument, and returns a shortened version of the string consisting of its first three letters and then every second letter in the rest of the word.\n",
    "\n",
    "#### 2. Write a function which takes a sentence as a single argument (in the form of a string), and evaluates whether it is valid based on whether the first letter is capitalised and the last character is a full stop. Return a Boolean value True or False.\n",
    "\n",
    "#### 3. Write a program which asks the user for two numbers and an operator out of +, -, / and * and performs that operation on the two numbers, printing the result."
   ]
  },
  {
   "cell_type": "code",
   "execution_count": null,
   "metadata": {},
   "outputs": [],
   "source": []
  }
 ],
 "metadata": {
  "kernelspec": {
   "display_name": "Python 3",
   "language": "python",
   "name": "python3"
  },
  "language_info": {
   "codemirror_mode": {
    "name": "ipython",
    "version": 3
   },
   "file_extension": ".py",
   "mimetype": "text/x-python",
   "name": "python",
   "nbconvert_exporter": "python",
   "pygments_lexer": "ipython3",
   "version": "3.7.7"
  }
 },
 "nbformat": 4,
 "nbformat_minor": 4
}
