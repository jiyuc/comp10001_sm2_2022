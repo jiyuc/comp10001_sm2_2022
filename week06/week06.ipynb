{
 "cells": [
  {
   "cell_type": "markdown",
   "id": "16430ded",
   "metadata": {},
   "source": [
    "## <p style=\"text-align: center;\">COMP10001 Foundations of Computing<br>Semester 2, 2022<br>Tutorial Questions: Week 6</p>\n",
    "### <p style=\"text-align: center;\">Tutor: [Jiyu Chen](https://jiyuc.live)</p>"
   ]
  },
  {
   "cell_type": "markdown",
   "id": "158b08f4",
   "metadata": {},
   "source": [
    "## Before the discussion questions, try Exercises 1–2 to revise last week’s material"
   ]
  },
  {
   "cell_type": "code",
   "execution_count": 11,
   "id": "2a759023",
   "metadata": {},
   "outputs": [],
   "source": [
    "# install requirements\n",
    "\n",
    "! pip install nltk\n",
    "import nltk\n",
    "nltk.download('brown')\n",
    "from nltk.corpus import brown\n",
    "article = brown.words()[:300]"
   ]
  },
  {
   "cell_type": "markdown",
   "id": "blond-emphasis",
   "metadata": {},
   "source": [
    "## Outline: Two new data structures -- dictionary & set\n",
    "__________\n",
    "### What data structures can we use to store songs for backend support of music stream app?\n",
    "\n",
    "#### Sequences are suitable. We can use a tuple to store details of each song, and store each song into a big list.\n",
    "__________\n",
    "```\n",
    "album_cover = ('Memories do not open', 'The Chainsmokers', '2017', '43:00')\n",
    "song_a = ('The One', 'The Chainsmokers', '2017', '2:57')\n",
    "song_b = ('Paris', 'The Chainsmokers', '2017', '3:44')\n",
    "song_c = ('Something Just Like This', 'The Chainsmokers and Coldplay', '2017', '4:07')\n",
    "... ...\n",
    "\n",
    "my_album = [album_cover, song_a, song_b, song_c]\n",
    "\n",
    "```\n",
    "__________\n",
    "#### What if we want to search if *Last Day Alive (feat. Florida Georgia Line)* is within this album? We probably need a for loop\n",
    "_____\n",
    "```\n",
    "def search_song_by_name(name):\n",
    "    for song in my_album:\n",
    "        if song[0] == name:\n",
    "            return song\n",
    "    return False\n",
    "    \n",
    "result = search_song_by_name('Last Day Alive')\n",
    "```\n",
    "_____\n",
    "#### Shortcoming: Inefficiency -- Time Complexity\n",
    "What if we extend the database to include eccesive amount of songs, let's assume, 1 million. It will take a computer interate through 1/2 million records for each searching query in average.\n",
    "\n",
    "\n",
    "#### Solution: Group songs with certain keys and use pointers to connect the key with less songs. By doing so, we only need to iterate through keys, instead of entire collection of song records. Let's assume we group the songs by English characters (analog to a dictionary book). We only have to search songs that named a specific English character as initial.\n",
    "__________\n",
    "```\n",
    "song_lookup:\n",
    "\n",
    "key -pointer-> value\n",
    "\n",
    "T -> The One\n",
    "P -> Paris\n",
    "S -> Something Just Like This\n",
    "\n",
    "\n",
    "def search_song_by_name(name):\n",
    "    key = name[0]\n",
    "    \n",
    "    for grouped_song in song_lookup[key]:\n",
    "        if name == grouped_song[name]:\n",
    "            return grouped_song\n",
    "            \n",
    "    return False\n",
    "    \n",
    "result = search_song_by_name('Last Day Alive')\n",
    "```\n",
    "__________\n",
    "\n",
    "The lookup table, with definition of **pointer** connecting specific **key** and **value**, is called `dictionary`.\n",
    "\n",
    "\n",
    "            \n",
    "\n"
   ]
  },
  {
   "cell_type": "markdown",
   "id": "literary-river",
   "metadata": {},
   "source": [
    "##  1. In what situations would we use a `dictionary`. How is it structured, how do we add and delete items?\n",
    "\n",
    "A dictionary holds relations (pointers) between `keys` and `values`. It’s useful for **counting frequencies** or storing information related to different objects in your code. Dictionaries are accessed in a similar way to other sequences, by using index notation `d[key]`. \n",
    "\n",
    "`values` are retrieved by indexing with the associated key. `values` are added by `key indexing` with assignment `d[key]=value`\n",
    "\n",
    "`values` are deleted with the `.pop(key)` method, which takes as an argument the key we wish to delete. \n",
    "\n",
    "Working with data stored in dictionaries is easy using the `.keys()` and `.values()` methods, which return a collection of the keys and values respectively; and `.items()` which returns a collection of tuples representing each entry in the dictionary, in `(key, value)` format.\n",
    "\n",
    "An empty dictionary is declared with a pair of braces `{}` or `dict()`."
   ]
  },
  {
   "cell_type": "code",
   "execution_count": 4,
   "id": "4e91643f",
   "metadata": {},
   "outputs": [
    {
     "data": {
      "text/plain": [
       "\"The Fulton County Grand Jury said Friday an investigation of Atlanta's recent primary election produced `` no evidence '' that any irregularities took place . The jury further said in term-end presentments that the City Executive Committee , which had over-all charge of the election , `` deserves the praise and thanks of the City of Atlanta '' for the manner in which the election was conducted . The September-October term jury had been charged by Fulton Superior Court Judge Durwood Pye to investigate reports of possible `` irregularities '' in the hard-fought primary which was won by Mayor-nominate Ivan Allen Jr. . `` Only a relative handful of such reports was received '' , the jury said , `` considering the widespread interest in the election , the number of voters and the size of this city '' . The jury said it did find that many of Georgia's registration and election laws `` are outmoded or inadequate and often ambiguous '' . It recommended that Fulton legislators act `` to have these laws studied and revised to the end of modernizing and improving them '' . The grand jury commented on a number of other topics , among them the Atlanta and Fulton County purchasing departments which it said `` are well operated and follow generally accepted practices which inure to the best interest of both governments '' . Merger proposed However , the jury said it believes `` these two offices should be combined to achieve greater efficiency and reduce the cost of administration '' . The City Purchasing Department , the jury said , `` is lacking in experienced clerical personnel as a result of city personnel policies '' . It urged that the city `` take steps to remedy '' this problem . Implementation of\""
      ]
     },
     "execution_count": 4,
     "metadata": {},
     "output_type": "execute_result"
    }
   ],
   "source": [
    "' '.join(article)"
   ]
  },
  {
   "cell_type": "code",
   "execution_count": 12,
   "id": "41695d03",
   "metadata": {},
   "outputs": [
    {
     "data": {
      "text/plain": [
       "['The', 'Fulton', 'County', 'Grand', 'Jury', 'said', ...]"
      ]
     },
     "execution_count": 12,
     "metadata": {},
     "output_type": "execute_result"
    }
   ],
   "source": [
    "article"
   ]
  },
  {
   "cell_type": "code",
   "execution_count": 13,
   "id": "d9ce06f4",
   "metadata": {},
   "outputs": [],
   "source": [
    "# declaration\n",
    "word_count = dict()\n",
    "word_count = {}"
   ]
  },
  {
   "cell_type": "code",
   "execution_count": 14,
   "id": "fd0cd7cb",
   "metadata": {},
   "outputs": [],
   "source": [
    "# assign items -- i.e., create a pointer from key (indexing) to value (assignment)\n",
    "\n",
    "for word in article:\n",
    "    #print(word)\n",
    "    if word not in word_count:  # if the word (key) does not exist in the dictionary\n",
    "        word_count[word] = 1  # create a new key->occurrence record, the starting value is 1\n",
    "    else:  # the word(key) already exist in the dictionary\n",
    "        word_count[word] += 1  # access the occurrence(value) through key indexing, and increment by 1"
   ]
  },
  {
   "cell_type": "code",
   "execution_count": 7,
   "id": "54c23902",
   "metadata": {},
   "outputs": [
    {
     "data": {
      "text/plain": [
       "156"
      ]
     },
     "execution_count": 7,
     "metadata": {},
     "output_type": "execute_result"
    }
   ],
   "source": [
    "len(word_count)  # size of the dictionary"
   ]
  },
  {
   "cell_type": "code",
   "execution_count": 8,
   "id": "f59868e5",
   "metadata": {},
   "outputs": [
    {
     "data": {
      "text/plain": [
       "dict_keys(['The', 'Fulton', 'County', 'Grand', 'Jury', 'said', 'Friday', 'an', 'investigation', 'of', \"Atlanta's\", 'recent', 'primary', 'election', 'produced', '``', 'no', 'evidence', \"''\", 'that', 'any', 'irregularities', 'took', 'place', '.', 'jury', 'further', 'in', 'term-end', 'presentments', 'the', 'City', 'Executive', 'Committee', ',', 'which', 'had', 'over-all', 'charge', 'deserves', 'praise', 'and', 'thanks', 'Atlanta', 'for', 'manner', 'was', 'conducted', 'September-October', 'term', 'been', 'charged', 'by', 'Superior', 'Court', 'Judge', 'Durwood', 'Pye', 'to', 'investigate', 'reports', 'possible', 'hard-fought', 'won', 'Mayor-nominate', 'Ivan', 'Allen', 'Jr.', 'Only', 'a', 'relative', 'handful', 'such', 'received', 'considering', 'widespread', 'interest', 'number', 'voters', 'size', 'this', 'city', 'it', 'did', 'find', 'many', \"Georgia's\", 'registration', 'laws', 'are', 'outmoded', 'or', 'inadequate', 'often', 'ambiguous', 'It', 'recommended', 'legislators', 'act', 'have', 'these', 'studied', 'revised', 'end', 'modernizing', 'improving', 'them', 'grand', 'commented', 'on', 'other', 'topics', 'among', 'purchasing', 'departments', 'well', 'operated', 'follow', 'generally', 'accepted', 'practices', 'inure', 'best', 'both', 'governments', 'Merger', 'proposed', 'However', 'believes', 'two', 'offices', 'should', 'be', 'combined', 'achieve', 'greater', 'efficiency', 'reduce', 'cost', 'administration', 'Purchasing', 'Department', 'is', 'lacking', 'experienced', 'clerical', 'personnel', 'as', 'result', 'policies', 'urged', 'take', 'steps', 'remedy', 'problem', 'Implementation'])"
      ]
     },
     "execution_count": 8,
     "metadata": {},
     "output_type": "execute_result"
    }
   ],
   "source": [
    "# collection of keys\n",
    "word_count.keys()"
   ]
  },
  {
   "cell_type": "code",
   "execution_count": 9,
   "id": "292d959d",
   "metadata": {},
   "outputs": [
    {
     "data": {
      "text/plain": [
       "dict_values([6, 4, 2, 1, 1, 7, 1, 1, 1, 15, 1, 1, 2, 5, 1, 11, 1, 1, 11, 5, 1, 2, 1, 1, 10, 7, 1, 5, 1, 1, 19, 3, 1, 1, 9, 5, 2, 1, 1, 1, 1, 9, 1, 2, 1, 1, 3, 1, 1, 1, 1, 1, 2, 1, 1, 1, 1, 1, 6, 1, 2, 1, 1, 1, 1, 1, 1, 1, 1, 3, 1, 1, 1, 1, 1, 1, 2, 2, 1, 1, 2, 3, 3, 1, 1, 1, 1, 1, 2, 2, 1, 1, 1, 1, 1, 2, 1, 1, 1, 1, 2, 1, 1, 1, 1, 1, 2, 1, 1, 1, 1, 1, 1, 1, 1, 1, 1, 1, 1, 1, 1, 1, 1, 1, 1, 1, 1, 1, 1, 1, 1, 1, 1, 1, 1, 1, 1, 1, 1, 1, 1, 1, 1, 1, 1, 1, 2, 1, 1, 1, 1, 1, 1, 1, 1, 1])"
      ]
     },
     "execution_count": 9,
     "metadata": {},
     "output_type": "execute_result"
    }
   ],
   "source": [
    "# collection of values\n",
    "word_count.values()"
   ]
  },
  {
   "cell_type": "code",
   "execution_count": 10,
   "id": "1bffa62e",
   "metadata": {},
   "outputs": [
    {
     "data": {
      "text/plain": [
       "dict_items([('The', 6), ('Fulton', 4), ('County', 2), ('Grand', 1), ('Jury', 1), ('said', 7), ('Friday', 1), ('an', 1), ('investigation', 1), ('of', 15), (\"Atlanta's\", 1), ('recent', 1), ('primary', 2), ('election', 5), ('produced', 1), ('``', 11), ('no', 1), ('evidence', 1), (\"''\", 11), ('that', 5), ('any', 1), ('irregularities', 2), ('took', 1), ('place', 1), ('.', 10), ('jury', 7), ('further', 1), ('in', 5), ('term-end', 1), ('presentments', 1), ('the', 19), ('City', 3), ('Executive', 1), ('Committee', 1), (',', 9), ('which', 5), ('had', 2), ('over-all', 1), ('charge', 1), ('deserves', 1), ('praise', 1), ('and', 9), ('thanks', 1), ('Atlanta', 2), ('for', 1), ('manner', 1), ('was', 3), ('conducted', 1), ('September-October', 1), ('term', 1), ('been', 1), ('charged', 1), ('by', 2), ('Superior', 1), ('Court', 1), ('Judge', 1), ('Durwood', 1), ('Pye', 1), ('to', 6), ('investigate', 1), ('reports', 2), ('possible', 1), ('hard-fought', 1), ('won', 1), ('Mayor-nominate', 1), ('Ivan', 1), ('Allen', 1), ('Jr.', 1), ('Only', 1), ('a', 3), ('relative', 1), ('handful', 1), ('such', 1), ('received', 1), ('considering', 1), ('widespread', 1), ('interest', 2), ('number', 2), ('voters', 1), ('size', 1), ('this', 2), ('city', 3), ('it', 3), ('did', 1), ('find', 1), ('many', 1), (\"Georgia's\", 1), ('registration', 1), ('laws', 2), ('are', 2), ('outmoded', 1), ('or', 1), ('inadequate', 1), ('often', 1), ('ambiguous', 1), ('It', 2), ('recommended', 1), ('legislators', 1), ('act', 1), ('have', 1), ('these', 2), ('studied', 1), ('revised', 1), ('end', 1), ('modernizing', 1), ('improving', 1), ('them', 2), ('grand', 1), ('commented', 1), ('on', 1), ('other', 1), ('topics', 1), ('among', 1), ('purchasing', 1), ('departments', 1), ('well', 1), ('operated', 1), ('follow', 1), ('generally', 1), ('accepted', 1), ('practices', 1), ('inure', 1), ('best', 1), ('both', 1), ('governments', 1), ('Merger', 1), ('proposed', 1), ('However', 1), ('believes', 1), ('two', 1), ('offices', 1), ('should', 1), ('be', 1), ('combined', 1), ('achieve', 1), ('greater', 1), ('efficiency', 1), ('reduce', 1), ('cost', 1), ('administration', 1), ('Purchasing', 1), ('Department', 1), ('is', 1), ('lacking', 1), ('experienced', 1), ('clerical', 1), ('personnel', 2), ('as', 1), ('result', 1), ('policies', 1), ('urged', 1), ('take', 1), ('steps', 1), ('remedy', 1), ('problem', 1), ('Implementation', 1)])"
      ]
     },
     "execution_count": 10,
     "metadata": {},
     "output_type": "execute_result"
    }
   ],
   "source": [
    "# get items , i.e., full map between key -> value\n",
    "word_count.items()"
   ]
  },
  {
   "cell_type": "code",
   "execution_count": 16,
   "id": "044efadf",
   "metadata": {},
   "outputs": [
    {
     "name": "stdout",
     "output_type": "stream",
     "text": [
      "[2, 3]\n"
     ]
    }
   ],
   "source": [
    "l1 = [1,2,3]\n",
    "l1.pop(0)\n",
    "print(l1)"
   ]
  },
  {
   "cell_type": "code",
   "execution_count": 19,
   "id": "c8eceb75",
   "metadata": {},
   "outputs": [
    {
     "data": {
      "text/plain": [
       "4"
      ]
     },
     "execution_count": 19,
     "metadata": {},
     "output_type": "execute_result"
    }
   ],
   "source": [
    "word_count['Fulton']"
   ]
  },
  {
   "cell_type": "code",
   "execution_count": 17,
   "id": "53c9b8f7",
   "metadata": {},
   "outputs": [
    {
     "data": {
      "text/plain": [
       "6"
      ]
     },
     "execution_count": 17,
     "metadata": {},
     "output_type": "execute_result"
    }
   ],
   "source": [
    "# delete item -- the frequency of occurrence of word `The`\n",
    "word_count.pop('The')"
   ]
  },
  {
   "cell_type": "code",
   "execution_count": 18,
   "id": "530a2286",
   "metadata": {},
   "outputs": [
    {
     "data": {
      "text/plain": [
       "dict_items([('Fulton', 4), ('County', 2), ('Grand', 1), ('Jury', 1), ('said', 7), ('Friday', 1), ('an', 1), ('investigation', 1), ('of', 15), (\"Atlanta's\", 1), ('recent', 1), ('primary', 2), ('election', 5), ('produced', 1), ('``', 11), ('no', 1), ('evidence', 1), (\"''\", 11), ('that', 5), ('any', 1), ('irregularities', 2), ('took', 1), ('place', 1), ('.', 10), ('jury', 7), ('further', 1), ('in', 5), ('term-end', 1), ('presentments', 1), ('the', 19), ('City', 3), ('Executive', 1), ('Committee', 1), (',', 9), ('which', 5), ('had', 2), ('over-all', 1), ('charge', 1), ('deserves', 1), ('praise', 1), ('and', 9), ('thanks', 1), ('Atlanta', 2), ('for', 1), ('manner', 1), ('was', 3), ('conducted', 1), ('September-October', 1), ('term', 1), ('been', 1), ('charged', 1), ('by', 2), ('Superior', 1), ('Court', 1), ('Judge', 1), ('Durwood', 1), ('Pye', 1), ('to', 6), ('investigate', 1), ('reports', 2), ('possible', 1), ('hard-fought', 1), ('won', 1), ('Mayor-nominate', 1), ('Ivan', 1), ('Allen', 1), ('Jr.', 1), ('Only', 1), ('a', 3), ('relative', 1), ('handful', 1), ('such', 1), ('received', 1), ('considering', 1), ('widespread', 1), ('interest', 2), ('number', 2), ('voters', 1), ('size', 1), ('this', 2), ('city', 3), ('it', 3), ('did', 1), ('find', 1), ('many', 1), (\"Georgia's\", 1), ('registration', 1), ('laws', 2), ('are', 2), ('outmoded', 1), ('or', 1), ('inadequate', 1), ('often', 1), ('ambiguous', 1), ('It', 2), ('recommended', 1), ('legislators', 1), ('act', 1), ('have', 1), ('these', 2), ('studied', 1), ('revised', 1), ('end', 1), ('modernizing', 1), ('improving', 1), ('them', 2), ('grand', 1), ('commented', 1), ('on', 1), ('other', 1), ('topics', 1), ('among', 1), ('purchasing', 1), ('departments', 1), ('well', 1), ('operated', 1), ('follow', 1), ('generally', 1), ('accepted', 1), ('practices', 1), ('inure', 1), ('best', 1), ('both', 1), ('governments', 1), ('Merger', 1), ('proposed', 1), ('However', 1), ('believes', 1), ('two', 1), ('offices', 1), ('should', 1), ('be', 1), ('combined', 1), ('achieve', 1), ('greater', 1), ('efficiency', 1), ('reduce', 1), ('cost', 1), ('administration', 1), ('Purchasing', 1), ('Department', 1), ('is', 1), ('lacking', 1), ('experienced', 1), ('clerical', 1), ('personnel', 2), ('as', 1), ('result', 1), ('policies', 1), ('urged', 1), ('take', 1), ('steps', 1), ('remedy', 1), ('problem', 1), ('Implementation', 1)])"
      ]
     },
     "execution_count": 18,
     "metadata": {},
     "output_type": "execute_result"
    }
   ],
   "source": [
    "# check the items again, you will notice 'The' and its associated value has been removed\n",
    "word_count.items()"
   ]
  },
  {
   "cell_type": "markdown",
   "id": "angry-tunnel",
   "metadata": {},
   "source": [
    "## 2. What is the difference between using the `.pop()` method on a dictionary and using it on a list?\n",
    "\n",
    "- On a *list*: `.pop()` called without an index argument removes the last item in the list. Called with an index `.pop(index)` deletes the item at that index in the list. Both times it will return the object it has deleted from the list.\n",
    "\n",
    "- On a *dictionary*: `.pop(key)` deletes the (key: value) pair associated with that key in the dictionary, returning the value it has removed. Without an argument, `.pop()` will **NOT** work because unlike lists, dictionaries do not have an ordering of entries. Therefore, .pop() needs a key to know which value to delete."
   ]
  },
  {
   "cell_type": "code",
   "execution_count": 8,
   "id": "stopped-bidding",
   "metadata": {},
   "outputs": [],
   "source": [
    "# TODO\n",
    "demo_list = ['b','c','a','a']\n",
    "demo_dict = {'b':1,'c':2,'a':3}"
   ]
  },
  {
   "cell_type": "code",
   "execution_count": 9,
   "id": "2c9aa647",
   "metadata": {},
   "outputs": [
    {
     "data": {
      "text/plain": [
       "{'c': 2, 'a': 3}"
      ]
     },
     "execution_count": 9,
     "metadata": {},
     "output_type": "execute_result"
    }
   ],
   "source": [
    "demo_dict.pop('b')\n",
    "demo_dict"
   ]
  },
  {
   "cell_type": "markdown",
   "id": "destroyed-welding",
   "metadata": {},
   "source": [
    "## 3. In what situations would we use a `set`? How does it differ from other “containers” such as lists and dictionaries?\n",
    "\n",
    "A set stores a collection of **unique** objects. Perhaps most naturally, we may use sets to store a mathematical set of numbers, but we may also store a mixture of any other unique objects. Sets are useful when we want to **remove duplicates from some other sequence**, or combine sets with set operations.\n",
    "Sets are somewhat like a dictionary without a value for each key: in both cases each entry is unique and there is **no concept of an ordering**. A list has an order and may have duplicates: both of these attributes are lost when converting to a set.\n",
    "\n",
    "\n",
    "**No concept of ordering means** u cannot access items using position indexing or slicing in a `set`."
   ]
  },
  {
   "cell_type": "code",
   "execution_count": 25,
   "id": "passing-georgia",
   "metadata": {},
   "outputs": [
    {
     "name": "stdout",
     "output_type": "stream",
     "text": [
      "['b', 'c', 'a', 'a'] {'a', 'c', 'b'}\n"
     ]
    }
   ],
   "source": [
    "demo_list = ['b','c','a','a']\n",
    "demo_set = set(demo_list)\n",
    "print(demo_list, demo_set)"
   ]
  },
  {
   "cell_type": "code",
   "execution_count": 19,
   "id": "b8c4dc6e",
   "metadata": {},
   "outputs": [
    {
     "data": {
      "text/plain": [
       "'b'"
      ]
     },
     "execution_count": 19,
     "metadata": {},
     "output_type": "execute_result"
    }
   ],
   "source": [
    "demo_list[0]"
   ]
  },
  {
   "cell_type": "code",
   "execution_count": 20,
   "id": "union-edmonton",
   "metadata": {},
   "outputs": [
    {
     "ename": "TypeError",
     "evalue": "'set' object is not subscriptable",
     "output_type": "error",
     "traceback": [
      "\u001b[0;31m---------------------------------------------------------------------------\u001b[0m",
      "\u001b[0;31mTypeError\u001b[0m                                 Traceback (most recent call last)",
      "\u001b[0;32m<ipython-input-20-ec771d34ca6a>\u001b[0m in \u001b[0;36m<module>\u001b[0;34m\u001b[0m\n\u001b[1;32m      1\u001b[0m \u001b[0;31m#TODO\u001b[0m\u001b[0;34m\u001b[0m\u001b[0;34m\u001b[0m\u001b[0;34m\u001b[0m\u001b[0m\n\u001b[0;32m----> 2\u001b[0;31m \u001b[0mdemo_set\u001b[0m\u001b[0;34m[\u001b[0m\u001b[0;36m0\u001b[0m\u001b[0;34m]\u001b[0m\u001b[0;34m\u001b[0m\u001b[0;34m\u001b[0m\u001b[0m\n\u001b[0m",
      "\u001b[0;31mTypeError\u001b[0m: 'set' object is not subscriptable"
     ]
    }
   ],
   "source": [
    "#TODO\n",
    "demo_set[0]"
   ]
  },
  {
   "cell_type": "code",
   "execution_count": 26,
   "id": "a8121193",
   "metadata": {},
   "outputs": [],
   "source": [
    "demo_set.add('a')"
   ]
  },
  {
   "cell_type": "markdown",
   "id": "iraqi-merchant",
   "metadata": {},
   "source": [
    "## 4. What special operations can we perform on sets? How do we add and remove items from them?\n",
    "\n",
    "The three main operations are \n",
    "- union: `s1 | s2` or `s1.union(s2)`; \n",
    "- intersection: `s1 & s2` or `s1.intersection(s2)`;\n",
    "- difference: `s1 - s2` or `s1.difference(s2)`. Pay attention to the Minuend and Subtraction\n",
    "\n",
    "![](uH6cL.png)"
   ]
  },
  {
   "cell_type": "code",
   "execution_count": 27,
   "id": "9fa4637c",
   "metadata": {},
   "outputs": [
    {
     "data": {
      "text/plain": [
       "{1, 4}"
      ]
     },
     "execution_count": 27,
     "metadata": {},
     "output_type": "execute_result"
    }
   ],
   "source": [
    "s1 = {1,2,3}\n",
    "s2 = {2,3,4}\n",
    "\n",
    "(s1 - s2) | (s2 - s1)"
   ]
  },
  {
   "cell_type": "code",
   "execution_count": 29,
   "id": "e4f9a240",
   "metadata": {},
   "outputs": [
    {
     "data": {
      "text/plain": [
       "{4}"
      ]
     },
     "execution_count": 29,
     "metadata": {},
     "output_type": "execute_result"
    }
   ],
   "source": [
    "s2 - s1"
   ]
  },
  {
   "cell_type": "markdown",
   "id": "bea85352",
   "metadata": {},
   "source": [
    "- Adding an item is possible with the `.add(item)` method and removing an item is done with the `.remove(item)` method.\n",
    "\n",
    "- Note that since a pair of empty braces `{}` denotes an empty dictionary, we use `set()` in order to create an empty set."
   ]
  },
  {
   "cell_type": "code",
   "execution_count": 28,
   "id": "hydraulic-quilt",
   "metadata": {},
   "outputs": [
    {
     "name": "stdout",
     "output_type": "stream",
     "text": [
      "{1, 2, 3, 4} {3, 4, 5, 6, 7}\n",
      "After removing 7:  {3, 4, 5, 6}\n",
      "union of s1 and s2:  {1, 2, 3, 4, 5, 6}\n",
      "intersection of s1 and s2:  {3, 4}\n",
      "difference of s1 towards s2:  {1, 2}\n",
      "difference of s2 towards s1:  {5, 6}\n"
     ]
    }
   ],
   "source": [
    "s1,s2,int_3 = set(),set(), 5 # declare two empty sets\n",
    "\n",
    "\n",
    "for i in [1,2,3,4]:\n",
    "    s1.add(i)       # add item in set\n",
    "    \n",
    "    \n",
    "for i in [3,4,5,6,7]:\n",
    "    s2.add(i)\n",
    "    \n",
    "print(s1,s2)\n",
    "s2.remove(7)        # remove 7 from s2\n",
    "print(\"After removing 7: \",s2)\n",
    "\n",
    "\n",
    "print(\"union of s1 and s2: \",s1|s2)\n",
    "print(\"intersection of s1 and s2: \",s1&s2)\n",
    "print(\"difference of s1 towards s2: \",s1-s2)\n",
    "print(\"difference of s2 towards s1: \",s2-s1)"
   ]
  },
  {
   "cell_type": "code",
   "execution_count": null,
   "id": "f37606b0",
   "metadata": {},
   "outputs": [],
   "source": []
  },
  {
   "cell_type": "markdown",
   "id": "failing-address",
   "metadata": {},
   "source": [
    "## Exercise 3\n",
    "\n",
    "![](e01.png)\n",
    "\n",
    "____\n",
    "\n",
    "![](e02.png)\n"
   ]
  },
  {
   "cell_type": "markdown",
   "id": "moving-paintball",
   "metadata": {},
   "source": [
    "## 5. What is `None`? How is it used?\n",
    "\n",
    "`None` is a special value in Python, notable for being what’s passed as the return value of a function when no return value is specified. It can therefore be used to represent the absence of a result, perhaps as a somewhat third option to a True/False boolean result. `None` is the value you will find if you assign the “output” from many mutating methods such as `.append()` which do not return anything. `None` is its own type, so no value of any other type has equality with it."
   ]
  },
  {
   "cell_type": "code",
   "execution_count": 29,
   "id": "blind-manner",
   "metadata": {},
   "outputs": [
    {
     "name": "stdout",
     "output_type": "stream",
     "text": [
      "else executed\n"
     ]
    }
   ],
   "source": [
    "var = None\n",
    "\n",
    "if var:\n",
    "    print('if executed')\n",
    "else:\n",
    "    print('else executed')"
   ]
  },
  {
   "cell_type": "code",
   "execution_count": 32,
   "id": "56d57497",
   "metadata": {},
   "outputs": [
    {
     "name": "stdout",
     "output_type": "stream",
     "text": [
      "None\n"
     ]
    }
   ],
   "source": [
    "l1 = [1,2, 3]\n",
    "var = l1.append(4)\n",
    "print(var)"
   ]
  },
  {
   "cell_type": "markdown",
   "id": "sixth-illinois",
   "metadata": {},
   "source": [
    "## 6. What is the difference between `sorted()` and `.sort()` when applied to a list? What does it mean to edit an object “in-place”?\n",
    "\n",
    "### A perfect consolidation of comparing mutation/immutation operation\n",
    "\n",
    "Say we’re talking about a list `my_list`. Both `sorted(my_list)` and `my_list.sort()` will sort `my_list`. \n",
    "\n",
    "`sorted(my_list)` will **return a new list** which contains the items of my_list in sorted order. my_list is left unchanged by this function. \n",
    "\n",
    "`my_list.sort()` on the other hand, will **mutate `my_list`**, changing the order of its items to sort it. Nothing is returned from this method (None if you try to assign its output) because it does its work directly on the list. The original order of items in my_list is overwritten.\n",
    "\n",
    "Editing an object **in-place** means **mutating** it: editing it directly without creating a copy or returning a new obejct. It can be dangerous if you’re not sure you want your data to be changed so be careful!"
   ]
  },
  {
   "cell_type": "code",
   "execution_count": 32,
   "id": "6b07626d",
   "metadata": {},
   "outputs": [
    {
     "name": "stdout",
     "output_type": "stream",
     "text": [
      "[1, 14, 9, 17, 10, 4, 10, 18, 17, 5]\n"
     ]
    }
   ],
   "source": [
    "# randomly generate a list of integers\n",
    "import random\n",
    "nums = [random.randint(0, 20) for _ in range(10)]\n",
    "print(nums)"
   ]
  },
  {
   "cell_type": "code",
   "execution_count": 33,
   "id": "9d84846f",
   "metadata": {},
   "outputs": [
    {
     "name": "stdout",
     "output_type": "stream",
     "text": [
      "[1, 4, 5, 9, 10, 10, 14, 17, 17, 18]\n",
      "[1, 14, 9, 17, 10, 4, 10, 18, 17, 5]\n"
     ]
    }
   ],
   "source": [
    "sorted_nums = sorted(nums)\n",
    "print(sorted_nums)\n",
    "print(nums)"
   ]
  },
  {
   "cell_type": "code",
   "execution_count": 34,
   "id": "interpreted-avatar",
   "metadata": {},
   "outputs": [
    {
     "name": "stdout",
     "output_type": "stream",
     "text": [
      "None\n",
      "[1, 4, 5, 9, 10, 10, 14, 17, 17, 18]\n"
     ]
    }
   ],
   "source": [
    "dot_sort_nums = nums.sort()\n",
    "print(dot_sort_nums)\n",
    "print(nums)\n"
   ]
  },
  {
   "cell_type": "markdown",
   "id": "timely-bridal",
   "metadata": {},
   "source": [
    "## Problems"
   ]
  },
  {
   "cell_type": "markdown",
   "id": "5da3e9a7",
   "metadata": {},
   "source": [
    "![](p01.png)"
   ]
  },
  {
   "cell_type": "code",
   "execution_count": 35,
   "id": "minor-disorder",
   "metadata": {},
   "outputs": [
    {
     "data": {
      "text/plain": [
       "{'b': 2, 'o': 4}"
      ]
     },
     "execution_count": 35,
     "metadata": {},
     "output_type": "execute_result"
    }
   ],
   "source": [
    "def freq_counts(arg):\n",
    "    # finish this block\n",
    "    if not arg:  # corner\n",
    "        return {}\n",
    "    \n",
    "    freq = dict() # {}\n",
    "    for char in arg:\n",
    "        if char not in freq.keys():\n",
    "            freq[char] = 1\n",
    "        else:\n",
    "            freq[char] += 1\n",
    "\n",
    "    return freq\n",
    "    \n",
    "    # finish block above\n",
    "\n",
    "freq_counts('booboo')\n",
    "    "
   ]
  },
  {
   "cell_type": "markdown",
   "id": "2b0d028c",
   "metadata": {},
   "source": [
    "![](p02.png)"
   ]
  },
  {
   "cell_type": "code",
   "execution_count": 36,
   "id": "eddac248",
   "metadata": {},
   "outputs": [
    {
     "name": "stdout",
     "output_type": "stream",
     "text": [
      "[4]\n"
     ]
    }
   ],
   "source": [
    "def in_common(list1, list2):\n",
    "    # finish this block\n",
    "    \n",
    "    s1, s2 = set(list1), set(list2)\n",
    "    \n",
    "    return list(s1 & s2)\n",
    "    \n",
    "    \n",
    "    # finish block above\n",
    "\n",
    "result = in_common([1,2,4], [3,4,5])\n",
    "print(result)"
   ]
  },
  {
   "cell_type": "markdown",
   "id": "22e6b990",
   "metadata": {},
   "source": [
    "![](p03.png)"
   ]
  },
  {
   "cell_type": "code",
   "execution_count": 1,
   "id": "26e1e072",
   "metadata": {},
   "outputs": [
    {
     "name": "stdout",
     "output_type": "stream",
     "text": [
      "[0, 1]\n"
     ]
    }
   ],
   "source": [
    "def unique_values(d):\n",
    "    # finish this block\n",
    "    \n",
    "    values = d.values()\n",
    "    set_values = set(values)\n",
    "    sorted_values = sorted(set_values)\n",
    "    return sorted_values\n",
    "    \n",
    "    # finish block above\n",
    "    \n",
    "\n",
    "result = unique_values({'a': 1, 'b': 0, 'c': 0})\n",
    "print(result)\n",
    "    "
   ]
  },
  {
   "cell_type": "markdown",
   "id": "ff23f171",
   "metadata": {},
   "source": [
    "![](p04.png)"
   ]
  },
  {
   "cell_type": "code",
   "execution_count": 40,
   "id": "acf2e1b1",
   "metadata": {},
   "outputs": [
    {
     "name": "stdout",
     "output_type": "stream",
     "text": [
      "True\n"
     ]
    }
   ],
   "source": [
    "def above_thresh(text, char, threshold):\n",
    "    # finish this block\n",
    "    if char not in text:\n",
    "        return None\n",
    "    \n",
    "    freq = freq_counts(text)\n",
    "    \n",
    "    \n",
    "    if freq[char] > threshold:\n",
    "        return True\n",
    "    else:\n",
    "        return False\n",
    "    \n",
    "\n",
    "    # finish block above\n",
    "    \n",
    "result = above_thresh('I like the letter e', 'e', 3)\n",
    "print(result)"
   ]
  },
  {
   "cell_type": "code",
   "execution_count": null,
   "id": "d9da48b8",
   "metadata": {},
   "outputs": [],
   "source": []
  }
 ],
 "metadata": {
  "kernelspec": {
   "display_name": "Python 3",
   "language": "python",
   "name": "python3"
  },
  "language_info": {
   "codemirror_mode": {
    "name": "ipython",
    "version": 3
   },
   "file_extension": ".py",
   "mimetype": "text/x-python",
   "name": "python",
   "nbconvert_exporter": "python",
   "pygments_lexer": "ipython3",
   "version": "3.7.7"
  }
 },
 "nbformat": 4,
 "nbformat_minor": 5
}
